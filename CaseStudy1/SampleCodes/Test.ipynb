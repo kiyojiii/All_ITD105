{
 "cells": [
  {
   "cell_type": "code",
   "execution_count": 117,
   "id": "7f25191a",
   "metadata": {},
   "outputs": [],
   "source": [
    "import pandas as pd "
   ]
  },
  {
   "cell_type": "code",
   "execution_count": 118,
   "id": "29d5ece3",
   "metadata": {},
   "outputs": [],
   "source": [
    "car=pd.read_csv('C:/Users/user/Desktop/ITD105 Files/CaseStudy1/Datasets/backup_car_price_prediction_regression.csv')"
   ]
  },
  {
   "cell_type": "code",
   "execution_count": 119,
   "id": "8d3142b5",
   "metadata": {},
   "outputs": [
    {
     "data": {
      "text/html": [
       "<div>\n",
       "<style scoped>\n",
       "    .dataframe tbody tr th:only-of-type {\n",
       "        vertical-align: middle;\n",
       "    }\n",
       "\n",
       "    .dataframe tbody tr th {\n",
       "        vertical-align: top;\n",
       "    }\n",
       "\n",
       "    .dataframe thead th {\n",
       "        text-align: right;\n",
       "    }\n",
       "</style>\n",
       "<table border=\"1\" class=\"dataframe\">\n",
       "  <thead>\n",
       "    <tr style=\"text-align: right;\">\n",
       "      <th></th>\n",
       "      <th>brand</th>\n",
       "      <th>model</th>\n",
       "      <th>model_year</th>\n",
       "      <th>mileage</th>\n",
       "      <th>fuel_type</th>\n",
       "      <th>engine</th>\n",
       "      <th>transmission</th>\n",
       "      <th>ext_col</th>\n",
       "      <th>int_col</th>\n",
       "      <th>accident</th>\n",
       "      <th>clean_title</th>\n",
       "      <th>price</th>\n",
       "    </tr>\n",
       "  </thead>\n",
       "  <tbody>\n",
       "    <tr>\n",
       "      <th>0</th>\n",
       "      <td>Ford</td>\n",
       "      <td>Utility Police Interceptor Base</td>\n",
       "      <td>2013</td>\n",
       "      <td>51,000 mi.</td>\n",
       "      <td>E85 Flex Fuel</td>\n",
       "      <td>300.0HP 3.7L V6 Cylinder Engine Flex Fuel Capa...</td>\n",
       "      <td>6-Speed A/T</td>\n",
       "      <td>Black</td>\n",
       "      <td>Black</td>\n",
       "      <td>At least 1 accident or damage reported</td>\n",
       "      <td>Yes</td>\n",
       "      <td>$10,300</td>\n",
       "    </tr>\n",
       "    <tr>\n",
       "      <th>1</th>\n",
       "      <td>Hyundai</td>\n",
       "      <td>Palisade SEL</td>\n",
       "      <td>2021</td>\n",
       "      <td>34,742 mi.</td>\n",
       "      <td>Gasoline</td>\n",
       "      <td>3.8L V6 24V GDI DOHC</td>\n",
       "      <td>8-Speed Automatic</td>\n",
       "      <td>Moonlight Cloud</td>\n",
       "      <td>Gray</td>\n",
       "      <td>At least 1 accident or damage reported</td>\n",
       "      <td>Yes</td>\n",
       "      <td>$38,005</td>\n",
       "    </tr>\n",
       "    <tr>\n",
       "      <th>2</th>\n",
       "      <td>Lexus</td>\n",
       "      <td>RX 350 RX 350</td>\n",
       "      <td>2022</td>\n",
       "      <td>22,372 mi.</td>\n",
       "      <td>Gasoline</td>\n",
       "      <td>3.5 Liter DOHC</td>\n",
       "      <td>Automatic</td>\n",
       "      <td>Blue</td>\n",
       "      <td>Black</td>\n",
       "      <td>None reported</td>\n",
       "      <td>NaN</td>\n",
       "      <td>$54,598</td>\n",
       "    </tr>\n",
       "    <tr>\n",
       "      <th>3</th>\n",
       "      <td>INFINITI</td>\n",
       "      <td>Q50 Hybrid Sport</td>\n",
       "      <td>2015</td>\n",
       "      <td>88,900 mi.</td>\n",
       "      <td>Hybrid</td>\n",
       "      <td>354.0HP 3.5L V6 Cylinder Engine Gas/Electric H...</td>\n",
       "      <td>7-Speed A/T</td>\n",
       "      <td>Black</td>\n",
       "      <td>Black</td>\n",
       "      <td>None reported</td>\n",
       "      <td>Yes</td>\n",
       "      <td>$15,500</td>\n",
       "    </tr>\n",
       "    <tr>\n",
       "      <th>4</th>\n",
       "      <td>Audi</td>\n",
       "      <td>Q3 45 S line Premium Plus</td>\n",
       "      <td>2021</td>\n",
       "      <td>9,835 mi.</td>\n",
       "      <td>Gasoline</td>\n",
       "      <td>2.0L I4 16V GDI DOHC Turbo</td>\n",
       "      <td>8-Speed Automatic</td>\n",
       "      <td>Glacier White Metallic</td>\n",
       "      <td>Black</td>\n",
       "      <td>None reported</td>\n",
       "      <td>NaN</td>\n",
       "      <td>$34,999</td>\n",
       "    </tr>\n",
       "  </tbody>\n",
       "</table>\n",
       "</div>"
      ],
      "text/plain": [
       "      brand                            model  model_year     mileage  \\\n",
       "0      Ford  Utility Police Interceptor Base        2013  51,000 mi.   \n",
       "1   Hyundai                     Palisade SEL        2021  34,742 mi.   \n",
       "2     Lexus                    RX 350 RX 350        2022  22,372 mi.   \n",
       "3  INFINITI                 Q50 Hybrid Sport        2015  88,900 mi.   \n",
       "4      Audi        Q3 45 S line Premium Plus        2021   9,835 mi.   \n",
       "\n",
       "       fuel_type                                             engine  \\\n",
       "0  E85 Flex Fuel  300.0HP 3.7L V6 Cylinder Engine Flex Fuel Capa...   \n",
       "1       Gasoline                               3.8L V6 24V GDI DOHC   \n",
       "2       Gasoline                                     3.5 Liter DOHC   \n",
       "3         Hybrid  354.0HP 3.5L V6 Cylinder Engine Gas/Electric H...   \n",
       "4       Gasoline                         2.0L I4 16V GDI DOHC Turbo   \n",
       "\n",
       "        transmission                 ext_col int_col  \\\n",
       "0        6-Speed A/T                   Black   Black   \n",
       "1  8-Speed Automatic         Moonlight Cloud    Gray   \n",
       "2          Automatic                    Blue   Black   \n",
       "3        7-Speed A/T                   Black   Black   \n",
       "4  8-Speed Automatic  Glacier White Metallic   Black   \n",
       "\n",
       "                                 accident clean_title     price  \n",
       "0  At least 1 accident or damage reported         Yes  $10,300   \n",
       "1  At least 1 accident or damage reported         Yes  $38,005   \n",
       "2                           None reported         NaN  $54,598   \n",
       "3                           None reported         Yes  $15,500   \n",
       "4                           None reported         NaN  $34,999   "
      ]
     },
     "execution_count": 119,
     "metadata": {},
     "output_type": "execute_result"
    }
   ],
   "source": [
    "car.head()"
   ]
  },
  {
   "cell_type": "code",
   "execution_count": 120,
   "id": "0644d530",
   "metadata": {},
   "outputs": [
    {
     "data": {
      "text/plain": [
       "(4009, 12)"
      ]
     },
     "execution_count": 120,
     "metadata": {},
     "output_type": "execute_result"
    }
   ],
   "source": [
    "car.shape"
   ]
  },
  {
   "cell_type": "code",
   "execution_count": 121,
   "id": "d7846dbc",
   "metadata": {},
   "outputs": [
    {
     "name": "stdout",
     "output_type": "stream",
     "text": [
      "<class 'pandas.core.frame.DataFrame'>\n",
      "RangeIndex: 4009 entries, 0 to 4008\n",
      "Data columns (total 12 columns):\n",
      " #   Column        Non-Null Count  Dtype \n",
      "---  ------        --------------  ----- \n",
      " 0   brand         4009 non-null   object\n",
      " 1   model         4009 non-null   object\n",
      " 2   model_year    4009 non-null   int64 \n",
      " 3   mileage       4009 non-null   object\n",
      " 4   fuel_type     3885 non-null   object\n",
      " 5   engine        4009 non-null   object\n",
      " 6   transmission  4009 non-null   object\n",
      " 7   ext_col       4009 non-null   object\n",
      " 8   int_col       4009 non-null   object\n",
      " 9   accident      3896 non-null   object\n",
      " 10  clean_title   3413 non-null   object\n",
      " 11  price         4009 non-null   object\n",
      "dtypes: int64(1), object(11)\n",
      "memory usage: 376.0+ KB\n"
     ]
    }
   ],
   "source": [
    "car.info()"
   ]
  },
  {
   "cell_type": "code",
   "execution_count": 122,
   "id": "6e25ab92",
   "metadata": {},
   "outputs": [
    {
     "data": {
      "text/plain": [
       "array([2013, 2021, 2022, 2015, 2016, 2017, 2001, 2020, 2019, 2003, 2018,\n",
       "       2023, 2000, 2006, 2011, 2012, 2007, 2014, 2005, 2009, 2010, 2004,\n",
       "       2008, 1997, 1999, 1993, 2002, 1998, 2024, 1996, 1974, 1992, 1995,\n",
       "       1994], dtype=int64)"
      ]
     },
     "execution_count": 122,
     "metadata": {},
     "output_type": "execute_result"
    }
   ],
   "source": [
    "car['model_year'].unique()"
   ]
  },
  {
   "cell_type": "code",
   "execution_count": 123,
   "id": "4736ee41",
   "metadata": {},
   "outputs": [
    {
     "data": {
      "text/plain": [
       "array(['Utility Police Interceptor Base', 'Palisade SEL', 'RX 350 RX 350',\n",
       "       ..., 'Martin DB7 Vantage Volante', 'Impala 2LZ', 'Taycan'],\n",
       "      dtype=object)"
      ]
     },
     "execution_count": 123,
     "metadata": {},
     "output_type": "execute_result"
    }
   ],
   "source": [
    "car['model'].unique()"
   ]
  },
  {
   "cell_type": "code",
   "execution_count": 124,
   "id": "5a72a0e7",
   "metadata": {},
   "outputs": [
    {
     "data": {
      "text/plain": [
       "array(['Ford', 'Hyundai', 'Lexus', 'INFINITI', 'Audi', 'Acura', 'BMW',\n",
       "       'Tesla', 'Land', 'Aston', 'Toyota', 'Lincoln', 'Jaguar',\n",
       "       'Mercedes-Benz', 'Dodge', 'Nissan', 'Genesis', 'Chevrolet', 'Kia',\n",
       "       'Jeep', 'Bentley', 'Honda', 'Lucid', 'MINI', 'Porsche', 'Hummer',\n",
       "       'Chrysler', 'Volvo', 'Cadillac', 'Lamborghini', 'Maserati',\n",
       "       'Volkswagen', 'Subaru', 'Rivian', 'GMC', 'RAM', 'Alfa', 'Ferrari',\n",
       "       'Scion', 'Mitsubishi', 'Mazda', 'Saturn', 'Bugatti', 'Polestar',\n",
       "       'Rolls-Royce', 'McLaren', 'Buick', 'Lotus', 'Pontiac', 'FIAT',\n",
       "       'Karma', 'Saab', 'Mercury', 'Plymouth', 'smart', 'Maybach',\n",
       "       'Suzuki'], dtype=object)"
      ]
     },
     "execution_count": 124,
     "metadata": {},
     "output_type": "execute_result"
    }
   ],
   "source": [
    "car['brand'].unique()"
   ]
  },
  {
   "cell_type": "code",
   "execution_count": 125,
   "id": "d0b8e042",
   "metadata": {},
   "outputs": [
    {
     "ename": "KeyError",
     "evalue": "'milage'",
     "output_type": "error",
     "traceback": [
      "\u001b[1;31m---------------------------------------------------------------------------\u001b[0m",
      "\u001b[1;31mKeyError\u001b[0m                                  Traceback (most recent call last)",
      "File \u001b[1;32m~\\AppData\\Local\\Programs\\Python\\Python310\\lib\\site-packages\\pandas\\core\\indexes\\base.py:3802\u001b[0m, in \u001b[0;36mIndex.get_loc\u001b[1;34m(self, key, method, tolerance)\u001b[0m\n\u001b[0;32m   3801\u001b[0m \u001b[38;5;28;01mtry\u001b[39;00m:\n\u001b[1;32m-> 3802\u001b[0m     \u001b[38;5;28;01mreturn\u001b[39;00m \u001b[38;5;28;43mself\u001b[39;49m\u001b[38;5;241;43m.\u001b[39;49m\u001b[43m_engine\u001b[49m\u001b[38;5;241;43m.\u001b[39;49m\u001b[43mget_loc\u001b[49m\u001b[43m(\u001b[49m\u001b[43mcasted_key\u001b[49m\u001b[43m)\u001b[49m\n\u001b[0;32m   3803\u001b[0m \u001b[38;5;28;01mexcept\u001b[39;00m \u001b[38;5;167;01mKeyError\u001b[39;00m \u001b[38;5;28;01mas\u001b[39;00m err:\n",
      "File \u001b[1;32m~\\AppData\\Local\\Programs\\Python\\Python310\\lib\\site-packages\\pandas\\_libs\\index.pyx:138\u001b[0m, in \u001b[0;36mpandas._libs.index.IndexEngine.get_loc\u001b[1;34m()\u001b[0m\n",
      "File \u001b[1;32m~\\AppData\\Local\\Programs\\Python\\Python310\\lib\\site-packages\\pandas\\_libs\\index.pyx:165\u001b[0m, in \u001b[0;36mpandas._libs.index.IndexEngine.get_loc\u001b[1;34m()\u001b[0m\n",
      "File \u001b[1;32mpandas\\_libs\\hashtable_class_helper.pxi:5745\u001b[0m, in \u001b[0;36mpandas._libs.hashtable.PyObjectHashTable.get_item\u001b[1;34m()\u001b[0m\n",
      "File \u001b[1;32mpandas\\_libs\\hashtable_class_helper.pxi:5753\u001b[0m, in \u001b[0;36mpandas._libs.hashtable.PyObjectHashTable.get_item\u001b[1;34m()\u001b[0m\n",
      "\u001b[1;31mKeyError\u001b[0m: 'milage'",
      "\nThe above exception was the direct cause of the following exception:\n",
      "\u001b[1;31mKeyError\u001b[0m                                  Traceback (most recent call last)",
      "Cell \u001b[1;32mIn[125], line 1\u001b[0m\n\u001b[1;32m----> 1\u001b[0m \u001b[43mcar\u001b[49m\u001b[43m[\u001b[49m\u001b[38;5;124;43m'\u001b[39;49m\u001b[38;5;124;43mmilage\u001b[39;49m\u001b[38;5;124;43m'\u001b[39;49m\u001b[43m]\u001b[49m\u001b[38;5;241m.\u001b[39munique()\n",
      "File \u001b[1;32m~\\AppData\\Local\\Programs\\Python\\Python310\\lib\\site-packages\\pandas\\core\\frame.py:3807\u001b[0m, in \u001b[0;36mDataFrame.__getitem__\u001b[1;34m(self, key)\u001b[0m\n\u001b[0;32m   3805\u001b[0m \u001b[38;5;28;01mif\u001b[39;00m \u001b[38;5;28mself\u001b[39m\u001b[38;5;241m.\u001b[39mcolumns\u001b[38;5;241m.\u001b[39mnlevels \u001b[38;5;241m>\u001b[39m \u001b[38;5;241m1\u001b[39m:\n\u001b[0;32m   3806\u001b[0m     \u001b[38;5;28;01mreturn\u001b[39;00m \u001b[38;5;28mself\u001b[39m\u001b[38;5;241m.\u001b[39m_getitem_multilevel(key)\n\u001b[1;32m-> 3807\u001b[0m indexer \u001b[38;5;241m=\u001b[39m \u001b[38;5;28;43mself\u001b[39;49m\u001b[38;5;241;43m.\u001b[39;49m\u001b[43mcolumns\u001b[49m\u001b[38;5;241;43m.\u001b[39;49m\u001b[43mget_loc\u001b[49m\u001b[43m(\u001b[49m\u001b[43mkey\u001b[49m\u001b[43m)\u001b[49m\n\u001b[0;32m   3808\u001b[0m \u001b[38;5;28;01mif\u001b[39;00m is_integer(indexer):\n\u001b[0;32m   3809\u001b[0m     indexer \u001b[38;5;241m=\u001b[39m [indexer]\n",
      "File \u001b[1;32m~\\AppData\\Local\\Programs\\Python\\Python310\\lib\\site-packages\\pandas\\core\\indexes\\base.py:3804\u001b[0m, in \u001b[0;36mIndex.get_loc\u001b[1;34m(self, key, method, tolerance)\u001b[0m\n\u001b[0;32m   3802\u001b[0m     \u001b[38;5;28;01mreturn\u001b[39;00m \u001b[38;5;28mself\u001b[39m\u001b[38;5;241m.\u001b[39m_engine\u001b[38;5;241m.\u001b[39mget_loc(casted_key)\n\u001b[0;32m   3803\u001b[0m \u001b[38;5;28;01mexcept\u001b[39;00m \u001b[38;5;167;01mKeyError\u001b[39;00m \u001b[38;5;28;01mas\u001b[39;00m err:\n\u001b[1;32m-> 3804\u001b[0m     \u001b[38;5;28;01mraise\u001b[39;00m \u001b[38;5;167;01mKeyError\u001b[39;00m(key) \u001b[38;5;28;01mfrom\u001b[39;00m \u001b[38;5;21;01merr\u001b[39;00m\n\u001b[0;32m   3805\u001b[0m \u001b[38;5;28;01mexcept\u001b[39;00m \u001b[38;5;167;01mTypeError\u001b[39;00m:\n\u001b[0;32m   3806\u001b[0m     \u001b[38;5;66;03m# If we have a listlike key, _check_indexing_error will raise\u001b[39;00m\n\u001b[0;32m   3807\u001b[0m     \u001b[38;5;66;03m#  InvalidIndexError. Otherwise we fall through and re-raise\u001b[39;00m\n\u001b[0;32m   3808\u001b[0m     \u001b[38;5;66;03m#  the TypeError.\u001b[39;00m\n\u001b[0;32m   3809\u001b[0m     \u001b[38;5;28mself\u001b[39m\u001b[38;5;241m.\u001b[39m_check_indexing_error(key)\n",
      "\u001b[1;31mKeyError\u001b[0m: 'milage'"
     ]
    }
   ],
   "source": [
    "car['milage'].unique()"
   ]
  },
  {
   "cell_type": "code",
   "execution_count": 126,
   "id": "395d2e05",
   "metadata": {},
   "outputs": [
    {
     "data": {
      "text/plain": [
       "array(['E85 Flex Fuel', 'Gasoline', 'Hybrid', 'Diesel', 'Plug-In Hybrid',\n",
       "       '–', nan, 'not supported'], dtype=object)"
      ]
     },
     "execution_count": 126,
     "metadata": {},
     "output_type": "execute_result"
    }
   ],
   "source": [
    "car['fuel_type'].unique()"
   ]
  },
  {
   "cell_type": "code",
   "execution_count": 127,
   "id": "53a22d40",
   "metadata": {},
   "outputs": [
    {
     "data": {
      "text/plain": [
       "array(['300.0HP 3.7L V6 Cylinder Engine Flex Fuel Capability',\n",
       "       '3.8L V6 24V GDI DOHC', '3.5 Liter DOHC', ...,\n",
       "       '136.0HP 1.8L 4 Cylinder Engine Gasoline Fuel',\n",
       "       '270.0HP 2.0L 4 Cylinder Engine Gasoline Fuel',\n",
       "       '420.0HP 5.9L 12 Cylinder Engine Gasoline Fuel'], dtype=object)"
      ]
     },
     "execution_count": 127,
     "metadata": {},
     "output_type": "execute_result"
    }
   ],
   "source": [
    "car['engine'].unique()"
   ]
  },
  {
   "cell_type": "code",
   "execution_count": 128,
   "id": "2da9e012",
   "metadata": {},
   "outputs": [
    {
     "data": {
      "text/plain": [
       "array(['6-Speed A/T', '8-Speed Automatic', 'Automatic', '7-Speed A/T',\n",
       "       'A/T', '8-Speed A/T', 'Transmission w/Dual Shift Mode',\n",
       "       '9-Speed Automatic', '6-Speed M/T', '10-Speed A/T', '9-Speed A/T',\n",
       "       '5-Speed A/T', '1-Speed A/T', 'Automatic CVT',\n",
       "       '7-Speed Automatic with Auto-Shift', 'CVT-F', 'M/T',\n",
       "       '6-Speed Automatic with Auto-Shift', '10-Speed Automatic',\n",
       "       'CVT Transmission', '4-Speed A/T', '6-Speed Automatic',\n",
       "       '4-Speed Automatic', '7-Speed M/T',\n",
       "       '8-Speed Automatic with Auto-Shift', '5-Speed Automatic',\n",
       "       '8-SPEED AT', '1-Speed Automatic', '5-Speed M/T', 'Manual',\n",
       "       '6-Speed Manual', 'Variable', '2', '7-Speed Manual',\n",
       "       'Automatic, 9-Spd 9G-Tronic', 'Automatic, 8-Spd',\n",
       "       'Automatic, 8-Spd Sport w/Sport & Manual Modes', 'F', '–',\n",
       "       'Auto, 6-Spd w/CmdShft', 'Transmission Overdrive Switch',\n",
       "       '7-Speed Automatic', 'Automatic, 8-Spd PDK Dual-Clutch',\n",
       "       'Automatic, 8-Spd M STEPTRONIC w/Drivelogic, Sport & Manual Modes',\n",
       "       'Automatic, 8-Spd Dual-Clutch', '6-Speed',\n",
       "       'Single-Speed Fixed Gear', 'Automatic, 10-Spd',\n",
       "       '2-Speed Automatic', '7-Speed',\n",
       "       'Automatic, 7-Spd S tronic Dual-Clutch', 'Manual, 6-Spd',\n",
       "       '6-Speed Electronically Controlled Automatic with O',\n",
       "       '6 Speed At/Mt', '8-SPEED A/T',\n",
       "       '10-Speed Automatic with Overdrive', '7-Speed DCT Automatic',\n",
       "       '9-Speed Automatic with Auto-Shift',\n",
       "       'SCHEDULED FOR OR IN PRODUCTION', '2-Speed A/T', '6 Speed Mt',\n",
       "       '8-Speed Manual'], dtype=object)"
      ]
     },
     "execution_count": 128,
     "metadata": {},
     "output_type": "execute_result"
    }
   ],
   "source": [
    "car['transmission'].unique()"
   ]
  },
  {
   "cell_type": "code",
   "execution_count": 129,
   "id": "7033c742",
   "metadata": {},
   "outputs": [
    {
     "data": {
      "text/plain": [
       "array(['Black', 'Moonlight Cloud', 'Blue', 'Glacier White Metallic',\n",
       "       'Silver', 'Green', 'Fuji White', 'Yellow', 'White', 'Gray',\n",
       "       'Purple', 'Iconic Silver Metallic', 'Mythos Black Metallic', 'Red',\n",
       "       'Gold', 'Lunar Silver Metallic', 'Mountain Air Metallic',\n",
       "       'Caspian Blue', 'Tango Red Metallic', '–', 'Alpine White',\n",
       "       'BLU ELEOS', 'Horizon Blue', 'Granite Crystal Clearcoat Metallic',\n",
       "       'Orange', 'Beige', 'Rift Metallic', 'Atomic Silver',\n",
       "       'Summit White', 'Imperial Blue Metallic',\n",
       "       'Magnetic Gray Clearcoat', 'Bright White Clearcoat',\n",
       "       'Typhoon Gray', 'Crystal Black Silica', 'Arctic Gray Metallic',\n",
       "       'Selenite Grey Metallic', 'Ultra Black', 'Lunare White Metallic',\n",
       "       'Hyper Red', 'Daytona Gray Pearl Effect', 'Vik Black',\n",
       "       'Pacific Blue Metallic', 'Obsidian Black Metallic',\n",
       "       'Silver Ice Metallic', 'Sonic Silver Metallic', 'Nightfall Mica',\n",
       "       'Apex Blue', 'Go Mango!', 'Ingot Silver Metallic',\n",
       "       'Midnight Black Metallic', 'Black Clearcoat', 'Thunder Gray',\n",
       "       'Bianco Monocerus', 'Verde', 'Wind Chill Pearl', 'Mythos Black',\n",
       "       'Patriot Blue Pearlcoat', 'Black Cherry', 'Yulong White',\n",
       "       'Donington Grey Metallic', 'Ruby Red Metallic Tinted Clearcoat',\n",
       "       'Platinum Quartz Metallic', 'Matador Red Metallic', 'Blu',\n",
       "       'Mosaic Black Metallic', 'Jungle Green', 'BLACK',\n",
       "       'Deep Crystal Blue Mica', 'Beluga Black', 'Eiger Grey',\n",
       "       'Ebony Black', 'Brown', 'Indus Silver', 'Ibis White',\n",
       "       'Bianco Icarus Metallic', 'Infrared Tintcoat', 'Midnight Black',\n",
       "       'Phytonic Blue Metallic', 'Quartz White',\n",
       "       'Rapid Red Metallic Tinted Clearcoat', 'Cobra Beige Metallic',\n",
       "       'Pure White', 'Snow White Pearl', 'DB Black Clearcoat',\n",
       "       'Firenze Red Metallic', 'Anodized Blue Metallic',\n",
       "       'MANUFAKTUR Diamond White Bright', 'Santorin Black', 'Glacier',\n",
       "       'Delmonico Red Pearlcoat', 'Brilliant Black',\n",
       "       'Magnetite Black Metallic', 'Carpathian Grey Premium Metallic',\n",
       "       'Majestic Black Pearl', 'Northsky Blue Metallic', 'Baltic Gray',\n",
       "       'Machine Gray Metallic', 'Twilight Black', 'Pearl White',\n",
       "       'Diamond Black', 'Maroon', 'Firecracker Red Clearcoat',\n",
       "       'Oxford White', 'Glacier White', 'Flame Red Clearcoat',\n",
       "       'White Clearcoat', 'Ice', 'Silver Zynith', 'Silky Silver',\n",
       "       'Ametrin Metallic', 'Deep Black Pearl Effect', 'Shimmering Silver',\n",
       "       'Gecko Pearlcoat', 'Onyx', 'Rosso Mars Metallic',\n",
       "       'Shoreline Blue Pearl', 'Santorini Black',\n",
       "       'White Platinum Tri-Coat Metallic', 'Sparkling Silver', 'Chalk',\n",
       "       'BLUE', 'Dazzling White', 'Santorini Black Metallic',\n",
       "       'Selenite Gray Metallic', 'Metallic', 'Ebony Twilight Metallic',\n",
       "       'Polymetal Gray Metallic', 'Oryx White Prl', 'Black Forest Green',\n",
       "       'Gun Metallic', 'Jet Black Mica', 'Dark Gray Metallic',\n",
       "       'Firenze Red', 'Glacial White Pearl',\n",
       "       'designo Diamond White Metallic', 'Blue Metallic',\n",
       "       'Isle of Man Green Metallic', 'Black Noir Pearl',\n",
       "       'Volcano Grey Metallic', 'Soul Red Crystal Metallic', 'Dark Moss',\n",
       "       'Passion Red', 'Typhoon Gray Metallic', 'Onyx Black',\n",
       "       'Redline Red', 'Navarra Blue Metallic',\n",
       "       'Brands Hatch Gray Metallic',\n",
       "       'Daytona Gray Pearl Effect w/ Black Roof', 'Hampton Gray',\n",
       "       'Ultra White', 'Hydro Blue Pearlcoat', 'Sandstone Metallic',\n",
       "       'Portofino Blue Metallic', 'Sangria Red', 'Magnetic Metallic',\n",
       "       'Tan', 'Platinum White Pearl', 'designo Diamond White',\n",
       "       'Anthracite Blue Metallic', 'Velvet Red Pearlcoat', 'Silver Mist',\n",
       "       'Antimatter Blue Metallic', 'Cirrus Silver Metallic', 'Pink',\n",
       "       'Cayenne Red Tintcoat', 'Garnet Red Metallic', 'Black Obsidian',\n",
       "       'Pristine White', 'Nebula Gray Pearl', 'Super White',\n",
       "       'Gentian Blue Metallic', 'Midnight Blue Metallic', 'Yulong',\n",
       "       'Rosso Corsa', 'Matte White', 'Navarra Blue', 'Silver Radiance',\n",
       "       'Iridium Metallic', 'Magnetic Black', 'Chronos Gray Metallic',\n",
       "       'Pacific Blue', 'Eiger Grey Metallic', 'White Diamond Tri-Coat',\n",
       "       'Stormy Sea', 'Dark Matter Metallic', 'Billet Clearcoat Metallic',\n",
       "       'Brilliant Silver Metallic', 'Liquid Platinum',\n",
       "       'Vulcano Black Metallic', 'Diamond White', 'White Frost Tri-Coat',\n",
       "       'Aventurine Green Metallic', 'Tempest', 'Alfa White', 'Star White',\n",
       "       'Titanium Silver', 'Caviar', 'Kodiak Brown Metallic',\n",
       "       'Majestic Plum Metallic', 'Navarre Blue', 'Bronze Dune Metallic',\n",
       "       'Radiant Red Metallic II', 'Dark Moon Blue Metallic',\n",
       "       'Manhattan Noir Metallic', 'Agate Black Metallic', 'Frozen White',\n",
       "       'Bianco Isis', 'Phantom Black Pearl Effect / Black Roof',\n",
       "       'Kemora Gray Metallic', 'Shadow Black', 'Graphite Grey Metallic',\n",
       "       'Emerald Green Metallic', 'Orca Black Metallic', 'Chronos Gray',\n",
       "       'Daytona Gray', 'Billet Silver Metallic Clearcoat',\n",
       "       'Sting Gray Clearcoat', 'Maximum Steel Metallic',\n",
       "       'Carbonized Gray Metallic', 'Ruby Flare Pearl',\n",
       "       'Crimson Red Tintcoat', 'Blueprint', 'Balloon White',\n",
       "       'Snowflake White Pearl', 'Crystal White Pearl',\n",
       "       'Quicksilver Metallic', 'Dark Sapphire', 'Carbon Black Metallic',\n",
       "       'Sunset Drift Chromaflair', 'Shadow Gray Metallic', 'Granite',\n",
       "       'Frozen Dark Silver Metallic', 'Black Sapphire Metallic',\n",
       "       'Quartz Blue Pearl', 'Iridescent Pearl Tricoat',\n",
       "       'Satin Steel Metallic', 'Aurora Black', 'Black Raven',\n",
       "       'Florett Silver', 'Cajun Red Tintcoat', 'Nero Daytona',\n",
       "       'Red Multi', 'Dark Ash Metallic', 'Rich Garnet Metallic',\n",
       "       'Nero Noctis', 'Scarlet Ember', 'Blue Reflex Mica',\n",
       "       'Snowflake White Pearl Metallic', 'Grigio Nimbus',\n",
       "       'Granite Crystal Metallic Clearcoat', 'Stellar Black Metallic',\n",
       "       'Dark Slate Metallic', 'Vega Blue', 'Stone Gray Metallic',\n",
       "       'Matador Red Mica', 'Barcelona Red', 'Bayside Blue',\n",
       "       'Tungsten Metallic', 'Mineral White', 'Siren Red Tintcoat',\n",
       "       'Octane Red Pearlcoat', 'Wolf Gray', 'Fountain Blue', 'Obsidian',\n",
       "       'Volcanic Orange', 'Dark Graphite Metallic', 'Designo Magno Matte',\n",
       "       'Phantom Black', 'Crystal Black', 'Red Quartz Tintcoat',\n",
       "       'Carrara White Metallic', 'Blue Caelum',\n",
       "       'designo Diamond White Bright', 'Iridium Silver Metallic',\n",
       "       'Mango Tango Pearlcoat', 'GT SILVER', 'Crystal Black Pearl',\n",
       "       'Eminent White Pearl', 'Lunar Blue Metallic',\n",
       "       'Magnetic Gray Metallic', 'Arctic White', 'Silver Flare Metallic',\n",
       "       'Emin White', 'Custom Color', 'Ember Pearlcoat',\n",
       "       'Twilight Blue Metallic', 'Burnished Bronze Metallic',\n",
       "       'Ice Silver Metallic', 'Magnetite Gray Metallic', 'Jupiter Red',\n",
       "       'Midnight Silver Metallic', 'Hellayella Clearcoat',\n",
       "       'Ironman Silver', 'Alta White', 'Python Green', 'China Blue',\n",
       "       'Portofino Gray', 'White Knuckle Clearcoat', 'Nautical Blue Pearl',\n",
       "       'Silician Yellow', 'Arancio Borealis', 'Rosso', 'Graphite Grey',\n",
       "       'Lizard Green', 'Super Black', 'Kinetic Blue',\n",
       "       'Electric Blue Metallic', 'Glacier Blue Metallic', 'Red Obsession',\n",
       "       'Platinum Gray Metallic', 'Remington Red Metallic',\n",
       "       'Reflex Silver', 'Deep Blue Metallic', 'Glacier Silver Metallic',\n",
       "       'Carpathian Grey', 'Nightfall Gray Metallic', 'Lunar Rock',\n",
       "       'Quartzite Grey Metallic', 'C / C'], dtype=object)"
      ]
     },
     "execution_count": 129,
     "metadata": {},
     "output_type": "execute_result"
    }
   ],
   "source": [
    "car['ext_col'].unique()"
   ]
  },
  {
   "cell_type": "code",
   "execution_count": 130,
   "id": "e0c1380f",
   "metadata": {},
   "outputs": [
    {
     "data": {
      "text/plain": [
       "array(['Black', 'Gray', 'Ebony.', 'Green', 'Pimento / Ebony', 'Brown',\n",
       "       'White', '–', 'Beige', 'Jet Black', 'Light Gray', 'Anthracite',\n",
       "       'Red', 'Nero Ade', 'Blue', 'Charcoal', 'Rioja Red',\n",
       "       'Canberra Beige/Black', 'Roast', 'Ivory / Ebony',\n",
       "       'Silk Beige/Black', 'Medium Pewter', 'Ice', 'Black / Express Red',\n",
       "       'Obsidian Black', 'Ebony', 'Orange', 'Caramel', 'Orchid',\n",
       "       'Graphite', 'Tan/Ebony', 'Cappuccino', 'Nero', 'Sahara Tan',\n",
       "       'BLACK', 'Hotspur', 'Blk', 'Black Onyx', 'Nougat Brown',\n",
       "       'Titan Black', 'Oyster W/Contrast', 'Silver',\n",
       "       'Macchiato Beige/Black', 'Sand Beige', 'Navy Pier', 'WHITE',\n",
       "       'Parchment.', 'Sarder Brown', 'Grace White', 'Cloud', 'Espresso',\n",
       "       'Mesa', 'Whisper Beige', 'Medium Dark Slate', 'Gold',\n",
       "       'Camel Leather', 'Tupelo', 'Black/Red', 'Parchment', 'Beluga Hide',\n",
       "       'Charles Blue', 'Global Black', 'Titan Black / Quarzit', 'Mocha',\n",
       "       'Portland', 'Medium Light Camel', 'Black / Saddle', 'Ash',\n",
       "       'Ebony / Pimento', 'Tan', 'Mistral Gray / Raven', 'Graystone',\n",
       "       'Satin Black', 'Sandstone', 'Medium Stone', 'ORANGE',\n",
       "       'Pimento Red w/Ebony', 'Macchiato', 'Ebony Black', 'Pearl Beige',\n",
       "       'Sakhir Orange', 'Kyalami Orange', 'Almond Beige',\n",
       "       'Medium Earth Gray', 'Diesel Gray / Black', 'Boulder', 'Walnut',\n",
       "       'Charcoal Black', 'Dark Auburn', 'Tan/Ebony/Ebony', 'Amber',\n",
       "       'Silk Beige/Espresso Brown', 'Black / Brown',\n",
       "       'Sakhir Orange/Black', 'Black / Stone Grey', 'AMG Black', 'Slate',\n",
       "       'BEIGE', 'Canberra Beige', 'Magma Red', 'Saiga Beige',\n",
       "       'Saddle Brown', 'Light Titanium', 'Dark Gray', 'Platinum',\n",
       "       'Ebony/Light Oyster Stitch', 'Shale', 'Red/Black', 'Agave Green',\n",
       "       'Cobalt Blue', 'Deep Cypress', 'Ceramic', 'Camel', 'Rhapsody Blue',\n",
       "       'Light Platinum / Jet Black', 'Shara Beige', 'Dark Galvanized',\n",
       "       'Giallo Taurus / Nero Ade', 'Yellow', 'Black w/Red Stitching',\n",
       "       'Black/Saddle Brown', 'Light Slate', 'Black/Gun Metal',\n",
       "       'White / Brown', 'Brandy', 'Mountain Brown', 'Linen', 'Porpoise',\n",
       "       'Aragon Brown', 'Oyster/Black', 'Gideon', 'Chestnut',\n",
       "       'Red / Black', 'Bianco Polar', 'Deep Garnet', 'Dark Ash',\n",
       "       'Ebony / Ebony Accents', 'Rock Gray', 'Cocoa / Dune', 'Beluga',\n",
       "       'Carbon Black', 'Sport', 'Medium Ash Gray', 'Black/Graphite',\n",
       "       'Macchiato/Magmagrey', 'Classic Red', 'Chateau',\n",
       "       'Graphite w/Gun Metal', 'Tension', 'Adrenaline Red',\n",
       "       'Hotspur Hide', 'Gray w/Blue Bolsters', 'Very Light Cashmere',\n",
       "       'Black / Gray', 'Deep Chestnut', 'Black / Graphite'], dtype=object)"
      ]
     },
     "execution_count": 130,
     "metadata": {},
     "output_type": "execute_result"
    }
   ],
   "source": [
    "car['int_col'].unique()"
   ]
  },
  {
   "cell_type": "code",
   "execution_count": 131,
   "id": "0cb85079",
   "metadata": {},
   "outputs": [
    {
     "data": {
      "text/plain": [
       "array(['At least 1 accident or damage reported', 'None reported', nan],\n",
       "      dtype=object)"
      ]
     },
     "execution_count": 131,
     "metadata": {},
     "output_type": "execute_result"
    }
   ],
   "source": [
    "car['accident'].unique()"
   ]
  },
  {
   "cell_type": "code",
   "execution_count": 132,
   "id": "da518ad4",
   "metadata": {},
   "outputs": [
    {
     "data": {
      "text/plain": [
       "array(['Yes', nan], dtype=object)"
      ]
     },
     "execution_count": 132,
     "metadata": {},
     "output_type": "execute_result"
    }
   ],
   "source": [
    "car['clean_title'].unique()"
   ]
  },
  {
   "cell_type": "code",
   "execution_count": 133,
   "id": "cf71b7ce",
   "metadata": {},
   "outputs": [
    {
     "data": {
      "text/plain": [
       "array(['$10,300 ', '$38,005 ', '$54,598 ', ..., '$59,335 ', '$349,950 ',\n",
       "       '$90,998 '], dtype=object)"
      ]
     },
     "execution_count": 133,
     "metadata": {},
     "output_type": "execute_result"
    }
   ],
   "source": [
    "car['price'].unique()"
   ]
  },
  {
   "cell_type": "code",
   "execution_count": 134,
   "id": "a677f7a4",
   "metadata": {},
   "outputs": [],
   "source": [
    "backup=car.copy()"
   ]
  },
  {
   "cell_type": "code",
   "execution_count": 135,
   "id": "8ba30341",
   "metadata": {},
   "outputs": [
    {
     "name": "stdout",
     "output_type": "stream",
     "text": [
      "<class 'pandas.core.frame.DataFrame'>\n",
      "RangeIndex: 4009 entries, 0 to 4008\n",
      "Data columns (total 12 columns):\n",
      " #   Column        Non-Null Count  Dtype \n",
      "---  ------        --------------  ----- \n",
      " 0   brand         4009 non-null   object\n",
      " 1   model         4009 non-null   object\n",
      " 2   model_year    4009 non-null   int64 \n",
      " 3   mileage       4009 non-null   object\n",
      " 4   fuel_type     3885 non-null   object\n",
      " 5   engine        4009 non-null   object\n",
      " 6   transmission  4009 non-null   object\n",
      " 7   ext_col       4009 non-null   object\n",
      " 8   int_col       4009 non-null   object\n",
      " 9   accident      3896 non-null   object\n",
      " 10  clean_title   3413 non-null   object\n",
      " 11  price         4009 non-null   object\n",
      "dtypes: int64(1), object(11)\n",
      "memory usage: 376.0+ KB\n"
     ]
    }
   ],
   "source": [
    "car.info()"
   ]
  },
  {
   "cell_type": "code",
   "execution_count": 136,
   "id": "6d6106ae",
   "metadata": {},
   "outputs": [],
   "source": [
    "car['price'] = car['price'].str.replace('[$,]', '', regex=True).astype(int)"
   ]
  },
  {
   "cell_type": "code",
   "execution_count": 137,
   "id": "3783a16a",
   "metadata": {},
   "outputs": [],
   "source": [
    "car['mileage'] = car['mileage'].str.replace('[mi.,]', '', regex=True).astype(int)"
   ]
  },
  {
   "cell_type": "code",
   "execution_count": 138,
   "id": "89183002",
   "metadata": {},
   "outputs": [
    {
     "name": "stdout",
     "output_type": "stream",
     "text": [
      "<class 'pandas.core.frame.DataFrame'>\n",
      "RangeIndex: 4009 entries, 0 to 4008\n",
      "Data columns (total 12 columns):\n",
      " #   Column        Non-Null Count  Dtype \n",
      "---  ------        --------------  ----- \n",
      " 0   brand         4009 non-null   object\n",
      " 1   model         4009 non-null   object\n",
      " 2   model_year    4009 non-null   int64 \n",
      " 3   mileage       4009 non-null   int32 \n",
      " 4   fuel_type     3885 non-null   object\n",
      " 5   engine        4009 non-null   object\n",
      " 6   transmission  4009 non-null   object\n",
      " 7   ext_col       4009 non-null   object\n",
      " 8   int_col       4009 non-null   object\n",
      " 9   accident      3896 non-null   object\n",
      " 10  clean_title   3413 non-null   object\n",
      " 11  price         4009 non-null   int32 \n",
      "dtypes: int32(2), int64(1), object(9)\n",
      "memory usage: 344.6+ KB\n"
     ]
    }
   ],
   "source": [
    "car.info()"
   ]
  },
  {
   "cell_type": "code",
   "execution_count": 139,
   "id": "d9f4dfdf",
   "metadata": {},
   "outputs": [],
   "source": [
    "car=car[~car['fuel_type'].isna()]"
   ]
  },
  {
   "cell_type": "code",
   "execution_count": 140,
   "id": "5e803f44",
   "metadata": {},
   "outputs": [
    {
     "data": {
      "text/html": [
       "<div>\n",
       "<style scoped>\n",
       "    .dataframe tbody tr th:only-of-type {\n",
       "        vertical-align: middle;\n",
       "    }\n",
       "\n",
       "    .dataframe tbody tr th {\n",
       "        vertical-align: top;\n",
       "    }\n",
       "\n",
       "    .dataframe thead th {\n",
       "        text-align: right;\n",
       "    }\n",
       "</style>\n",
       "<table border=\"1\" class=\"dataframe\">\n",
       "  <thead>\n",
       "    <tr style=\"text-align: right;\">\n",
       "      <th></th>\n",
       "      <th>model_year</th>\n",
       "      <th>mileage</th>\n",
       "      <th>price</th>\n",
       "    </tr>\n",
       "  </thead>\n",
       "  <tbody>\n",
       "    <tr>\n",
       "      <th>count</th>\n",
       "      <td>3885.000000</td>\n",
       "      <td>3885.000000</td>\n",
       "      <td>3.885000e+03</td>\n",
       "    </tr>\n",
       "    <tr>\n",
       "      <th>mean</th>\n",
       "      <td>2015.366538</td>\n",
       "      <td>65897.340283</td>\n",
       "      <td>4.426696e+04</td>\n",
       "    </tr>\n",
       "    <tr>\n",
       "      <th>std</th>\n",
       "      <td>6.125995</td>\n",
       "      <td>52490.868836</td>\n",
       "      <td>7.981032e+04</td>\n",
       "    </tr>\n",
       "    <tr>\n",
       "      <th>min</th>\n",
       "      <td>1974.000000</td>\n",
       "      <td>100.000000</td>\n",
       "      <td>2.000000e+03</td>\n",
       "    </tr>\n",
       "    <tr>\n",
       "      <th>25%</th>\n",
       "      <td>2012.000000</td>\n",
       "      <td>23850.000000</td>\n",
       "      <td>1.700000e+04</td>\n",
       "    </tr>\n",
       "    <tr>\n",
       "      <th>50%</th>\n",
       "      <td>2017.000000</td>\n",
       "      <td>54082.000000</td>\n",
       "      <td>3.049000e+04</td>\n",
       "    </tr>\n",
       "    <tr>\n",
       "      <th>75%</th>\n",
       "      <td>2020.000000</td>\n",
       "      <td>95426.000000</td>\n",
       "      <td>4.900000e+04</td>\n",
       "    </tr>\n",
       "    <tr>\n",
       "      <th>max</th>\n",
       "      <td>2024.000000</td>\n",
       "      <td>405000.000000</td>\n",
       "      <td>2.954083e+06</td>\n",
       "    </tr>\n",
       "  </tbody>\n",
       "</table>\n",
       "</div>"
      ],
      "text/plain": [
       "        model_year        mileage         price\n",
       "count  3885.000000    3885.000000  3.885000e+03\n",
       "mean   2015.366538   65897.340283  4.426696e+04\n",
       "std       6.125995   52490.868836  7.981032e+04\n",
       "min    1974.000000     100.000000  2.000000e+03\n",
       "25%    2012.000000   23850.000000  1.700000e+04\n",
       "50%    2017.000000   54082.000000  3.049000e+04\n",
       "75%    2020.000000   95426.000000  4.900000e+04\n",
       "max    2024.000000  405000.000000  2.954083e+06"
      ]
     },
     "execution_count": 140,
     "metadata": {},
     "output_type": "execute_result"
    }
   ],
   "source": [
    "car.describe()"
   ]
  },
  {
   "cell_type": "code",
   "execution_count": 141,
   "id": "93c7fe40",
   "metadata": {},
   "outputs": [
    {
     "name": "stdout",
     "output_type": "stream",
     "text": [
      "<class 'pandas.core.frame.DataFrame'>\n",
      "Int64Index: 3885 entries, 0 to 4008\n",
      "Data columns (total 12 columns):\n",
      " #   Column        Non-Null Count  Dtype \n",
      "---  ------        --------------  ----- \n",
      " 0   brand         3885 non-null   object\n",
      " 1   model         3885 non-null   object\n",
      " 2   model_year    3885 non-null   int64 \n",
      " 3   mileage       3885 non-null   int32 \n",
      " 4   fuel_type     3885 non-null   object\n",
      " 5   engine        3885 non-null   object\n",
      " 6   transmission  3885 non-null   object\n",
      " 7   ext_col       3885 non-null   object\n",
      " 8   int_col       3885 non-null   object\n",
      " 9   accident      3774 non-null   object\n",
      " 10  clean_title   3306 non-null   object\n",
      " 11  price         3885 non-null   int32 \n",
      "dtypes: int32(2), int64(1), object(9)\n",
      "memory usage: 364.2+ KB\n"
     ]
    }
   ],
   "source": [
    "car.info()"
   ]
  },
  {
   "cell_type": "code",
   "execution_count": 142,
   "id": "1cddf6aa",
   "metadata": {},
   "outputs": [
    {
     "data": {
      "text/plain": [
       "0       At least 1 accident or damage reported\n",
       "1       At least 1 accident or damage reported\n",
       "2                                None reported\n",
       "3                                None reported\n",
       "4                                None reported\n",
       "                         ...                  \n",
       "4003    At least 1 accident or damage reported\n",
       "4004                             None reported\n",
       "4005                             None reported\n",
       "4007                             None reported\n",
       "4008    At least 1 accident or damage reported\n",
       "Name: accident, Length: 3885, dtype: object"
      ]
     },
     "execution_count": 142,
     "metadata": {},
     "output_type": "execute_result"
    }
   ],
   "source": [
    "car['accident']"
   ]
  },
  {
   "cell_type": "code",
   "execution_count": 143,
   "id": "17a3cde2",
   "metadata": {},
   "outputs": [],
   "source": [
    "car = car.fillna(car.mean(numeric_only=True))"
   ]
  },
  {
   "cell_type": "code",
   "execution_count": 144,
   "id": "63c13f39",
   "metadata": {},
   "outputs": [
    {
     "name": "stdout",
     "output_type": "stream",
     "text": [
      "<class 'pandas.core.frame.DataFrame'>\n",
      "Int64Index: 3885 entries, 0 to 4008\n",
      "Data columns (total 12 columns):\n",
      " #   Column        Non-Null Count  Dtype \n",
      "---  ------        --------------  ----- \n",
      " 0   brand         3885 non-null   object\n",
      " 1   model         3885 non-null   object\n",
      " 2   model_year    3885 non-null   int64 \n",
      " 3   mileage       3885 non-null   int32 \n",
      " 4   fuel_type     3885 non-null   object\n",
      " 5   engine        3885 non-null   object\n",
      " 6   transmission  3885 non-null   object\n",
      " 7   ext_col       3885 non-null   object\n",
      " 8   int_col       3885 non-null   object\n",
      " 9   accident      3774 non-null   object\n",
      " 10  clean_title   3306 non-null   object\n",
      " 11  price         3885 non-null   int32 \n",
      "dtypes: int32(2), int64(1), object(9)\n",
      "memory usage: 364.2+ KB\n"
     ]
    }
   ],
   "source": [
    "car.info()"
   ]
  },
  {
   "cell_type": "code",
   "execution_count": 145,
   "id": "fa4d62d6",
   "metadata": {},
   "outputs": [
    {
     "ename": "TypeError",
     "evalue": "can only concatenate str (not \"int\") to str",
     "output_type": "error",
     "traceback": [
      "\u001b[1;31m---------------------------------------------------------------------------\u001b[0m",
      "\u001b[1;31mTypeError\u001b[0m                                 Traceback (most recent call last)",
      "Cell \u001b[1;32mIn[145], line 1\u001b[0m\n\u001b[1;32m----> 1\u001b[0m mean_accident \u001b[38;5;241m=\u001b[39m \u001b[43mcar\u001b[49m\u001b[43m[\u001b[49m\u001b[38;5;124;43m'\u001b[39;49m\u001b[38;5;124;43maccident\u001b[39;49m\u001b[38;5;124;43m'\u001b[39;49m\u001b[43m]\u001b[49m\u001b[38;5;241;43m.\u001b[39;49m\u001b[43mmean\u001b[49m\u001b[43m(\u001b[49m\u001b[43m)\u001b[49m\n\u001b[0;32m      2\u001b[0m car[\u001b[38;5;124m'\u001b[39m\u001b[38;5;124maccident\u001b[39m\u001b[38;5;124m'\u001b[39m]\u001b[38;5;241m.\u001b[39mfillna(mean_accident, inplace\u001b[38;5;241m=\u001b[39m\u001b[38;5;28;01mTrue\u001b[39;00m)\n",
      "File \u001b[1;32m~\\AppData\\Local\\Programs\\Python\\Python310\\lib\\site-packages\\pandas\\core\\generic.py:11847\u001b[0m, in \u001b[0;36mNDFrame._add_numeric_operations.<locals>.mean\u001b[1;34m(self, axis, skipna, level, numeric_only, **kwargs)\u001b[0m\n\u001b[0;32m  11829\u001b[0m \u001b[38;5;129m@doc\u001b[39m(\n\u001b[0;32m  11830\u001b[0m     _num_doc,\n\u001b[0;32m  11831\u001b[0m     desc\u001b[38;5;241m=\u001b[39m\u001b[38;5;124m\"\u001b[39m\u001b[38;5;124mReturn the mean of the values over the requested axis.\u001b[39m\u001b[38;5;124m\"\u001b[39m,\n\u001b[1;32m   (...)\u001b[0m\n\u001b[0;32m  11845\u001b[0m     \u001b[38;5;241m*\u001b[39m\u001b[38;5;241m*\u001b[39mkwargs,\n\u001b[0;32m  11846\u001b[0m ):\n\u001b[1;32m> 11847\u001b[0m     \u001b[38;5;28;01mreturn\u001b[39;00m NDFrame\u001b[38;5;241m.\u001b[39mmean(\u001b[38;5;28mself\u001b[39m, axis, skipna, level, numeric_only, \u001b[38;5;241m*\u001b[39m\u001b[38;5;241m*\u001b[39mkwargs)\n",
      "File \u001b[1;32m~\\AppData\\Local\\Programs\\Python\\Python310\\lib\\site-packages\\pandas\\core\\generic.py:11401\u001b[0m, in \u001b[0;36mNDFrame.mean\u001b[1;34m(self, axis, skipna, level, numeric_only, **kwargs)\u001b[0m\n\u001b[0;32m  11393\u001b[0m \u001b[38;5;28;01mdef\u001b[39;00m \u001b[38;5;21mmean\u001b[39m(\n\u001b[0;32m  11394\u001b[0m     \u001b[38;5;28mself\u001b[39m,\n\u001b[0;32m  11395\u001b[0m     axis: Axis \u001b[38;5;241m|\u001b[39m \u001b[38;5;28;01mNone\u001b[39;00m \u001b[38;5;241m|\u001b[39m lib\u001b[38;5;241m.\u001b[39mNoDefault \u001b[38;5;241m=\u001b[39m lib\u001b[38;5;241m.\u001b[39mno_default,\n\u001b[1;32m   (...)\u001b[0m\n\u001b[0;32m  11399\u001b[0m     \u001b[38;5;241m*\u001b[39m\u001b[38;5;241m*\u001b[39mkwargs,\n\u001b[0;32m  11400\u001b[0m ) \u001b[38;5;241m-\u001b[39m\u001b[38;5;241m>\u001b[39m Series \u001b[38;5;241m|\u001b[39m \u001b[38;5;28mfloat\u001b[39m:\n\u001b[1;32m> 11401\u001b[0m     \u001b[38;5;28;01mreturn\u001b[39;00m \u001b[38;5;28mself\u001b[39m\u001b[38;5;241m.\u001b[39m_stat_function(\n\u001b[0;32m  11402\u001b[0m         \u001b[38;5;124m\"\u001b[39m\u001b[38;5;124mmean\u001b[39m\u001b[38;5;124m\"\u001b[39m, nanops\u001b[38;5;241m.\u001b[39mnanmean, axis, skipna, level, numeric_only, \u001b[38;5;241m*\u001b[39m\u001b[38;5;241m*\u001b[39mkwargs\n\u001b[0;32m  11403\u001b[0m     )\n",
      "File \u001b[1;32m~\\AppData\\Local\\Programs\\Python\\Python310\\lib\\site-packages\\pandas\\core\\generic.py:11353\u001b[0m, in \u001b[0;36mNDFrame._stat_function\u001b[1;34m(self, name, func, axis, skipna, level, numeric_only, **kwargs)\u001b[0m\n\u001b[0;32m  11343\u001b[0m     warnings\u001b[38;5;241m.\u001b[39mwarn(\n\u001b[0;32m  11344\u001b[0m         \u001b[38;5;124m\"\u001b[39m\u001b[38;5;124mUsing the level keyword in DataFrame and Series aggregations is \u001b[39m\u001b[38;5;124m\"\u001b[39m\n\u001b[0;32m  11345\u001b[0m         \u001b[38;5;124m\"\u001b[39m\u001b[38;5;124mdeprecated and will be removed in a future version. Use groupby \u001b[39m\u001b[38;5;124m\"\u001b[39m\n\u001b[1;32m   (...)\u001b[0m\n\u001b[0;32m  11348\u001b[0m         stacklevel\u001b[38;5;241m=\u001b[39mfind_stack_level(),\n\u001b[0;32m  11349\u001b[0m     )\n\u001b[0;32m  11350\u001b[0m     \u001b[38;5;28;01mreturn\u001b[39;00m \u001b[38;5;28mself\u001b[39m\u001b[38;5;241m.\u001b[39m_agg_by_level(\n\u001b[0;32m  11351\u001b[0m         name, axis\u001b[38;5;241m=\u001b[39maxis, level\u001b[38;5;241m=\u001b[39mlevel, skipna\u001b[38;5;241m=\u001b[39mskipna, numeric_only\u001b[38;5;241m=\u001b[39mnumeric_only\n\u001b[0;32m  11352\u001b[0m     )\n\u001b[1;32m> 11353\u001b[0m \u001b[38;5;28;01mreturn\u001b[39;00m \u001b[38;5;28;43mself\u001b[39;49m\u001b[38;5;241;43m.\u001b[39;49m\u001b[43m_reduce\u001b[49m\u001b[43m(\u001b[49m\n\u001b[0;32m  11354\u001b[0m \u001b[43m    \u001b[49m\u001b[43mfunc\u001b[49m\u001b[43m,\u001b[49m\u001b[43m \u001b[49m\u001b[43mname\u001b[49m\u001b[38;5;241;43m=\u001b[39;49m\u001b[43mname\u001b[49m\u001b[43m,\u001b[49m\u001b[43m \u001b[49m\u001b[43maxis\u001b[49m\u001b[38;5;241;43m=\u001b[39;49m\u001b[43maxis\u001b[49m\u001b[43m,\u001b[49m\u001b[43m \u001b[49m\u001b[43mskipna\u001b[49m\u001b[38;5;241;43m=\u001b[39;49m\u001b[43mskipna\u001b[49m\u001b[43m,\u001b[49m\u001b[43m \u001b[49m\u001b[43mnumeric_only\u001b[49m\u001b[38;5;241;43m=\u001b[39;49m\u001b[43mnumeric_only\u001b[49m\n\u001b[0;32m  11355\u001b[0m \u001b[43m\u001b[49m\u001b[43m)\u001b[49m\n",
      "File \u001b[1;32m~\\AppData\\Local\\Programs\\Python\\Python310\\lib\\site-packages\\pandas\\core\\series.py:4816\u001b[0m, in \u001b[0;36mSeries._reduce\u001b[1;34m(self, op, name, axis, skipna, numeric_only, filter_type, **kwds)\u001b[0m\n\u001b[0;32m   4812\u001b[0m     \u001b[38;5;28;01mraise\u001b[39;00m \u001b[38;5;167;01mNotImplementedError\u001b[39;00m(\n\u001b[0;32m   4813\u001b[0m         \u001b[38;5;124mf\u001b[39m\u001b[38;5;124m\"\u001b[39m\u001b[38;5;124mSeries.\u001b[39m\u001b[38;5;132;01m{\u001b[39;00mname\u001b[38;5;132;01m}\u001b[39;00m\u001b[38;5;124m does not implement \u001b[39m\u001b[38;5;132;01m{\u001b[39;00mkwd_name\u001b[38;5;132;01m}\u001b[39;00m\u001b[38;5;124m.\u001b[39m\u001b[38;5;124m\"\u001b[39m\n\u001b[0;32m   4814\u001b[0m     )\n\u001b[0;32m   4815\u001b[0m \u001b[38;5;28;01mwith\u001b[39;00m np\u001b[38;5;241m.\u001b[39merrstate(\u001b[38;5;28mall\u001b[39m\u001b[38;5;241m=\u001b[39m\u001b[38;5;124m\"\u001b[39m\u001b[38;5;124mignore\u001b[39m\u001b[38;5;124m\"\u001b[39m):\n\u001b[1;32m-> 4816\u001b[0m     \u001b[38;5;28;01mreturn\u001b[39;00m op(delegate, skipna\u001b[38;5;241m=\u001b[39mskipna, \u001b[38;5;241m*\u001b[39m\u001b[38;5;241m*\u001b[39mkwds)\n",
      "File \u001b[1;32m~\\AppData\\Local\\Programs\\Python\\Python310\\lib\\site-packages\\pandas\\core\\nanops.py:93\u001b[0m, in \u001b[0;36mdisallow.__call__.<locals>._f\u001b[1;34m(*args, **kwargs)\u001b[0m\n\u001b[0;32m     91\u001b[0m \u001b[38;5;28;01mtry\u001b[39;00m:\n\u001b[0;32m     92\u001b[0m     \u001b[38;5;28;01mwith\u001b[39;00m np\u001b[38;5;241m.\u001b[39merrstate(invalid\u001b[38;5;241m=\u001b[39m\u001b[38;5;124m\"\u001b[39m\u001b[38;5;124mignore\u001b[39m\u001b[38;5;124m\"\u001b[39m):\n\u001b[1;32m---> 93\u001b[0m         \u001b[38;5;28;01mreturn\u001b[39;00m f(\u001b[38;5;241m*\u001b[39margs, \u001b[38;5;241m*\u001b[39m\u001b[38;5;241m*\u001b[39mkwargs)\n\u001b[0;32m     94\u001b[0m \u001b[38;5;28;01mexcept\u001b[39;00m \u001b[38;5;167;01mValueError\u001b[39;00m \u001b[38;5;28;01mas\u001b[39;00m e:\n\u001b[0;32m     95\u001b[0m     \u001b[38;5;66;03m# we want to transform an object array\u001b[39;00m\n\u001b[0;32m     96\u001b[0m     \u001b[38;5;66;03m# ValueError message to the more typical TypeError\u001b[39;00m\n\u001b[0;32m     97\u001b[0m     \u001b[38;5;66;03m# e.g. this is normally a disallowed function on\u001b[39;00m\n\u001b[0;32m     98\u001b[0m     \u001b[38;5;66;03m# object arrays that contain strings\u001b[39;00m\n\u001b[0;32m     99\u001b[0m     \u001b[38;5;28;01mif\u001b[39;00m is_object_dtype(args[\u001b[38;5;241m0\u001b[39m]):\n",
      "File \u001b[1;32m~\\AppData\\Local\\Programs\\Python\\Python310\\lib\\site-packages\\pandas\\core\\nanops.py:155\u001b[0m, in \u001b[0;36mbottleneck_switch.__call__.<locals>.f\u001b[1;34m(values, axis, skipna, **kwds)\u001b[0m\n\u001b[0;32m    153\u001b[0m         result \u001b[38;5;241m=\u001b[39m alt(values, axis\u001b[38;5;241m=\u001b[39maxis, skipna\u001b[38;5;241m=\u001b[39mskipna, \u001b[38;5;241m*\u001b[39m\u001b[38;5;241m*\u001b[39mkwds)\n\u001b[0;32m    154\u001b[0m \u001b[38;5;28;01melse\u001b[39;00m:\n\u001b[1;32m--> 155\u001b[0m     result \u001b[38;5;241m=\u001b[39m alt(values, axis\u001b[38;5;241m=\u001b[39maxis, skipna\u001b[38;5;241m=\u001b[39mskipna, \u001b[38;5;241m*\u001b[39m\u001b[38;5;241m*\u001b[39mkwds)\n\u001b[0;32m    157\u001b[0m \u001b[38;5;28;01mreturn\u001b[39;00m result\n",
      "File \u001b[1;32m~\\AppData\\Local\\Programs\\Python\\Python310\\lib\\site-packages\\pandas\\core\\nanops.py:418\u001b[0m, in \u001b[0;36m_datetimelike_compat.<locals>.new_func\u001b[1;34m(values, axis, skipna, mask, **kwargs)\u001b[0m\n\u001b[0;32m    415\u001b[0m \u001b[38;5;28;01mif\u001b[39;00m datetimelike \u001b[38;5;129;01mand\u001b[39;00m mask \u001b[38;5;129;01mis\u001b[39;00m \u001b[38;5;28;01mNone\u001b[39;00m:\n\u001b[0;32m    416\u001b[0m     mask \u001b[38;5;241m=\u001b[39m isna(values)\n\u001b[1;32m--> 418\u001b[0m result \u001b[38;5;241m=\u001b[39m func(values, axis\u001b[38;5;241m=\u001b[39maxis, skipna\u001b[38;5;241m=\u001b[39mskipna, mask\u001b[38;5;241m=\u001b[39mmask, \u001b[38;5;241m*\u001b[39m\u001b[38;5;241m*\u001b[39mkwargs)\n\u001b[0;32m    420\u001b[0m \u001b[38;5;28;01mif\u001b[39;00m datetimelike:\n\u001b[0;32m    421\u001b[0m     result \u001b[38;5;241m=\u001b[39m _wrap_results(result, orig_values\u001b[38;5;241m.\u001b[39mdtype, fill_value\u001b[38;5;241m=\u001b[39miNaT)\n",
      "File \u001b[1;32m~\\AppData\\Local\\Programs\\Python\\Python310\\lib\\site-packages\\pandas\\core\\nanops.py:706\u001b[0m, in \u001b[0;36mnanmean\u001b[1;34m(values, axis, skipna, mask)\u001b[0m\n\u001b[0;32m    703\u001b[0m     dtype_count \u001b[38;5;241m=\u001b[39m dtype\n\u001b[0;32m    705\u001b[0m count \u001b[38;5;241m=\u001b[39m _get_counts(values\u001b[38;5;241m.\u001b[39mshape, mask, axis, dtype\u001b[38;5;241m=\u001b[39mdtype_count)\n\u001b[1;32m--> 706\u001b[0m the_sum \u001b[38;5;241m=\u001b[39m _ensure_numeric(\u001b[43mvalues\u001b[49m\u001b[38;5;241;43m.\u001b[39;49m\u001b[43msum\u001b[49m\u001b[43m(\u001b[49m\u001b[43maxis\u001b[49m\u001b[43m,\u001b[49m\u001b[43m \u001b[49m\u001b[43mdtype\u001b[49m\u001b[38;5;241;43m=\u001b[39;49m\u001b[43mdtype_sum\u001b[49m\u001b[43m)\u001b[49m)\n\u001b[0;32m    708\u001b[0m \u001b[38;5;28;01mif\u001b[39;00m axis \u001b[38;5;129;01mis\u001b[39;00m \u001b[38;5;129;01mnot\u001b[39;00m \u001b[38;5;28;01mNone\u001b[39;00m \u001b[38;5;129;01mand\u001b[39;00m \u001b[38;5;28mgetattr\u001b[39m(the_sum, \u001b[38;5;124m\"\u001b[39m\u001b[38;5;124mndim\u001b[39m\u001b[38;5;124m\"\u001b[39m, \u001b[38;5;28;01mFalse\u001b[39;00m):\n\u001b[0;32m    709\u001b[0m     count \u001b[38;5;241m=\u001b[39m cast(np\u001b[38;5;241m.\u001b[39mndarray, count)\n",
      "File \u001b[1;32m~\\AppData\\Local\\Programs\\Python\\Python310\\lib\\site-packages\\numpy\\core\\_methods.py:49\u001b[0m, in \u001b[0;36m_sum\u001b[1;34m(a, axis, dtype, out, keepdims, initial, where)\u001b[0m\n\u001b[0;32m     47\u001b[0m \u001b[38;5;28;01mdef\u001b[39;00m \u001b[38;5;21m_sum\u001b[39m(a, axis\u001b[38;5;241m=\u001b[39m\u001b[38;5;28;01mNone\u001b[39;00m, dtype\u001b[38;5;241m=\u001b[39m\u001b[38;5;28;01mNone\u001b[39;00m, out\u001b[38;5;241m=\u001b[39m\u001b[38;5;28;01mNone\u001b[39;00m, keepdims\u001b[38;5;241m=\u001b[39m\u001b[38;5;28;01mFalse\u001b[39;00m,\n\u001b[0;32m     48\u001b[0m          initial\u001b[38;5;241m=\u001b[39m_NoValue, where\u001b[38;5;241m=\u001b[39m\u001b[38;5;28;01mTrue\u001b[39;00m):\n\u001b[1;32m---> 49\u001b[0m     \u001b[38;5;28;01mreturn\u001b[39;00m \u001b[43mumr_sum\u001b[49m\u001b[43m(\u001b[49m\u001b[43ma\u001b[49m\u001b[43m,\u001b[49m\u001b[43m \u001b[49m\u001b[43maxis\u001b[49m\u001b[43m,\u001b[49m\u001b[43m \u001b[49m\u001b[43mdtype\u001b[49m\u001b[43m,\u001b[49m\u001b[43m \u001b[49m\u001b[43mout\u001b[49m\u001b[43m,\u001b[49m\u001b[43m \u001b[49m\u001b[43mkeepdims\u001b[49m\u001b[43m,\u001b[49m\u001b[43m \u001b[49m\u001b[43minitial\u001b[49m\u001b[43m,\u001b[49m\u001b[43m \u001b[49m\u001b[43mwhere\u001b[49m\u001b[43m)\u001b[49m\n",
      "\u001b[1;31mTypeError\u001b[0m: can only concatenate str (not \"int\") to str"
     ]
    }
   ],
   "source": [
    "mean_accident = car['accident'].mean()\n",
    "car['accident'].fillna(mean_accident, inplace=True)\n"
   ]
  },
  {
   "cell_type": "code",
   "execution_count": 146,
   "id": "b560d9d5",
   "metadata": {},
   "outputs": [],
   "source": [
    "car['accident'].fillna(\"No accidents reported\", inplace=True)"
   ]
  },
  {
   "cell_type": "code",
   "execution_count": 147,
   "id": "e85b59ea",
   "metadata": {},
   "outputs": [],
   "source": [
    "car['clean_title'].fillna(\"Yes\", inplace=True)"
   ]
  },
  {
   "cell_type": "code",
   "execution_count": 148,
   "id": "7ebae51b",
   "metadata": {},
   "outputs": [
    {
     "name": "stdout",
     "output_type": "stream",
     "text": [
      "<class 'pandas.core.frame.DataFrame'>\n",
      "Int64Index: 3885 entries, 0 to 4008\n",
      "Data columns (total 12 columns):\n",
      " #   Column        Non-Null Count  Dtype \n",
      "---  ------        --------------  ----- \n",
      " 0   brand         3885 non-null   object\n",
      " 1   model         3885 non-null   object\n",
      " 2   model_year    3885 non-null   int64 \n",
      " 3   mileage       3885 non-null   int32 \n",
      " 4   fuel_type     3885 non-null   object\n",
      " 5   engine        3885 non-null   object\n",
      " 6   transmission  3885 non-null   object\n",
      " 7   ext_col       3885 non-null   object\n",
      " 8   int_col       3885 non-null   object\n",
      " 9   accident      3885 non-null   object\n",
      " 10  clean_title   3885 non-null   object\n",
      " 11  price         3885 non-null   int32 \n",
      "dtypes: int32(2), int64(1), object(9)\n",
      "memory usage: 364.2+ KB\n"
     ]
    }
   ],
   "source": [
    "car.info()"
   ]
  },
  {
   "cell_type": "code",
   "execution_count": 152,
   "id": "1009f933",
   "metadata": {},
   "outputs": [],
   "source": [
    "# Replace 'â€“' with NaN in the entire DataFrame\n",
    "car = car.replace('â€“', pd.NA)\n",
    "\n",
    "# Drop rows with any missing values (NaN) in any column\n",
    "car.dropna(subset=car.columns, inplace=True)"
   ]
  },
  {
   "cell_type": "code",
   "execution_count": 153,
   "id": "897b639d",
   "metadata": {},
   "outputs": [
    {
     "name": "stdout",
     "output_type": "stream",
     "text": [
      "<class 'pandas.core.frame.DataFrame'>\n",
      "Int64Index: 3885 entries, 0 to 4008\n",
      "Data columns (total 12 columns):\n",
      " #   Column        Non-Null Count  Dtype \n",
      "---  ------        --------------  ----- \n",
      " 0   brand         3885 non-null   object\n",
      " 1   model         3885 non-null   object\n",
      " 2   model_year    3885 non-null   int64 \n",
      " 3   mileage       3885 non-null   int32 \n",
      " 4   fuel_type     3885 non-null   object\n",
      " 5   engine        3885 non-null   object\n",
      " 6   transmission  3885 non-null   object\n",
      " 7   ext_col       3885 non-null   object\n",
      " 8   int_col       3885 non-null   object\n",
      " 9   accident      3885 non-null   object\n",
      " 10  clean_title   3885 non-null   object\n",
      " 11  price         3885 non-null   int32 \n",
      "dtypes: int32(2), int64(1), object(9)\n",
      "memory usage: 364.2+ KB\n"
     ]
    }
   ],
   "source": [
    "car.info()"
   ]
  },
  {
   "cell_type": "code",
   "execution_count": 114,
   "id": "4a74bed0",
   "metadata": {},
   "outputs": [],
   "source": [
    "#car.to_csv('C:/Users/user/Desktop/ITD105 Files/CaseStudy1/Cleaned_UsedCars.csv')"
   ]
  },
  {
   "cell_type": "code",
   "execution_count": 154,
   "id": "01f82228",
   "metadata": {},
   "outputs": [
    {
     "name": "stdout",
     "output_type": "stream",
     "text": [
      "List 1: CVT, Manual, Manual, CVT, Manual\n",
      "List 2: CVT, CVT, Automatic, CVT\n",
      "List 3: Manual, Manual, CVT\n",
      "List 4: Manual, Manual\n",
      "List 5: CVT\n",
      "List 6: CVT, Manual\n",
      "List 7: CVT, Manual\n",
      "List 8: CVT, Manual\n",
      "List 9: Automatic, CVT, Manual, Manual\n",
      "List 10: CVT, Manual, Automatic, Manual\n"
     ]
    }
   ],
   "source": [
    "import random\n",
    "\n",
    "# Transmission types\n",
    "transmissions = [\"CVT\", \"Automatic\", \"Manual\"]\n",
    "\n",
    "# Generate 200 random lists of transmissions\n",
    "random_transmission_lists = [random.choices(transmissions, k=random.randint(1, 5)) for _ in range(200)]\n",
    "\n",
    "# Print the first 10 lists as an example\n",
    "for i, transmission_list in enumerate(random_transmission_lists[:10], 1):\n",
    "    print(f\"List {i}: {', '.join(transmission_list)}\")\n"
   ]
  },
  {
   "cell_type": "code",
   "execution_count": null,
   "id": "ddf344c5",
   "metadata": {},
   "outputs": [],
   "source": []
  }
 ],
 "metadata": {
  "kernelspec": {
   "display_name": "Python 3 (ipykernel)",
   "language": "python",
   "name": "python3"
  },
  "language_info": {
   "codemirror_mode": {
    "name": "ipython",
    "version": 3
   },
   "file_extension": ".py",
   "mimetype": "text/x-python",
   "name": "python",
   "nbconvert_exporter": "python",
   "pygments_lexer": "ipython3",
   "version": "3.10.10"
  }
 },
 "nbformat": 4,
 "nbformat_minor": 5
}
