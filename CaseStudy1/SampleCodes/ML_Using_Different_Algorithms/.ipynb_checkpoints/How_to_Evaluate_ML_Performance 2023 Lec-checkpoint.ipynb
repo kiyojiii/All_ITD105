{
 "cells": [
  {
   "cell_type": "markdown",
   "metadata": {
    "id": "lL3Hs_LlJQAF"
   },
   "source": [
    "# I. Introduction\n",
    "\n",
    "After training your machine learning model, you need to know how well it performs on unseen data. There are 2 ways to evaluate the performance of an algorithm:\n",
    "* **Using Resampling Methods**. Use resampling methods that allow you to make accurate estimates for how well your algorithm will perform on new data. \n",
    "* **Using Algorithm Performance Metrics**. Make predictions for new data to which you already know the answers. This data is your test or validation dataset.\n",
    "\n",
    "<br>\n",
    "\n",
    "After completing this notebook, you will learn:\n",
    "* How to estimate the accuracy of machine learning algorithms using resampling methods in Python and scikit-learn"
   ]
  },
  {
   "cell_type": "markdown",
   "metadata": {
    "id": "YoBaW3TfHqXl"
   },
   "source": [
    "## Download the Dataset"
   ]
  },
  {
   "cell_type": "markdown",
   "metadata": {
    "id": "C2NvZ29q7QSv"
   },
   "source": [
    "Before proceeding to the next sections, you need to download the dataset that will be used in the exercises. This is provided in our Google Classroom. You  have 2 options how to access the datasets in your notebook:"
   ]
  },
  {
   "cell_type": "markdown",
   "metadata": {
    "id": "OqS5rXcI_ryk"
   },
   "source": [
    "### Option 1: Upload the data from your Local File System"
   ]
  },
  {
   "cell_type": "code",
   "execution_count": null,
   "metadata": {
    "id": "imcOeUz6_41Z"
   },
   "outputs": [],
   "source": [
    "# Uploading the data from Local File System\n",
    "from google.colab import files\n",
    "\n",
    "uploaded = files.upload()"
   ]
  },
  {
   "cell_type": "markdown",
   "metadata": {
    "id": "FwGtsH9L-3NU"
   },
   "source": [
    "### Option 2: Mount your Google Drive"
   ]
  },
  {
   "cell_type": "code",
   "execution_count": null,
   "metadata": {
    "id": "6FZ73dT2HpLg"
   },
   "outputs": [],
   "source": [
    "# Mount your google drive and copy the authentication key to allow access\n",
    "from google.colab import drive\n",
    "drive.mount('/content/drive', force_remount=True)\n",
    "\n",
    "# Locate the file in your Google Drive directory\n",
    "%cd drive/My\\ Drive/Colab\\ Notebooks/ML\\ training   # replace this line depending on the directory setup of your google drive\n",
    "\n",
    "# Uncomment this if you want to list files in the directory to check if the file is there\n",
    "# %ls"
   ]
  },
  {
   "cell_type": "markdown",
   "metadata": {
    "id": "ZAcJfYmwCY-Q"
   },
   "source": [
    "# II. Evaluate the Performance of Machine Learning Algorithms with Resampling\n",
    "\n",
    "There are 4 different techniques that we can use to split up our training dataset:\n",
    "\n",
    "\n",
    "*   Train and Test Sets.\n",
    "*   *k*-fold Cross Validation\n",
    "*   Leave One Out Cross Validation\n",
    "*   Repeated Random Test-Train Splits\n",
    "\n"
   ]
  },
  {
   "cell_type": "markdown",
   "metadata": {
    "id": "ybHXwjIhDYhP"
   },
   "source": [
    "## **1. Split into Train and Test Sets**\n",
    "---\n",
    "* This is the simplest method to evaluate the performance of a machine learning algorithm.\n",
    "* This algorithm evaluation technique is very fast and ideal for large datasets (millions of records) where there is strong evidence that both splits of the data are representative of the underlying problem. \n",
    "* Because of the speed, it is useful to use this approach when the algorithm you are investigating is slow to train. \n",
    "* A downside of this technique is that it can have a high variance. This means that differences in the training and test dataset can result in meaningful differences in the estimate of accuracy.  "
   ]
  },
  {
   "cell_type": "markdown",
   "metadata": {
    "id": "EMJYbH96DfOs"
   },
   "source": [
    "**The Method:**\n",
    "* Split the original dataset into 2 parts: train and test\n",
    "* Train on the first part then make predictions on the second part\n",
    "* It is common to use 67% of the data for training and the remaining 33% for testing \n",
    "<br><br>\n",
    "<t>\n",
    "<img src='https://drive.google.com/uc?export=view&id=179hlspS49G7drY99VY6ydBDj6HMA6XwU' width=500px>\n"
   ]
  },
  {
   "cell_type": "markdown",
   "metadata": {
    "id": "j2gOGRIHDG03"
   },
   "source": [
    "In the example below we split the Pima Indians dataset into 67%/33% splits for training and test and evaluate the accuracy of a Logistic Regression model:"
   ]
  },
  {
   "cell_type": "code",
   "execution_count": 14,
   "metadata": {
    "id": "RPpq_tiZc-n2"
   },
   "outputs": [
    {
     "name": "stdout",
     "output_type": "stream",
     "text": [
      "Accuracy: 93.931%\n"
     ]
    }
   ],
   "source": [
    "# Evaluate using a train and a test set\n",
    "from pandas import read_csv\n",
    "from sklearn.model_selection import train_test_split\n",
    "from sklearn.linear_model import LogisticRegression\n",
    "\n",
    "# Load the dataset \n",
    "filename = filename = 'D:/DataViz/BDA/pima-indians-diabetes.csv'\n",
    "names = ['preg', 'plas', 'pres', 'skin', 'test', 'mass', 'pedi', 'age', 'class']\n",
    "dataframe = read_csv(filename)\n",
    "array = dataframe.values\n",
    "X = array[:,0:8]\n",
    "Y = array[:,8]\n",
    "\n",
    "# Set the test size\n",
    "test_size = 0.20\n",
    "seed = 7\n",
    "\n",
    "# Split the dataset into test and train \n",
    "X_train, X_test, Y_train, Y_test = train_test_split(X, Y, test_size=test_size, random_state=seed)\n",
    "\n",
    "# Train the data on a Logistic Regression model\n",
    "model = LogisticRegression(max_iter=200) \n",
    "model.fit(X_train, Y_train)\n",
    "\n",
    "# Evaluate the accuracy\n",
    "result = model.score(X_test, Y_test)\n",
    "print((\"Accuracy: %.3f%%\") % (result*100.0))"
   ]
  },
  {
   "cell_type": "markdown",
   "metadata": {
    "id": "W5c-8EJwEeuD"
   },
   "source": [
    "*More info on scikit-learn's train_test_split function [here](https://scikit-learn.org/stable/modules/generated/sklearn.model_selection.train_test_split.html)*"
   ]
  },
  {
   "cell_type": "markdown",
   "metadata": {
    "id": "HhJEfdI0R5ng"
   },
   "source": [
    "## **2. K-fold Cross Validation**\n",
    "---\n",
    "**Cross validation** is an approach that you can use to estimate the performance of machine learning algorithm with less variance than a single train-test set split. "
   ]
  },
  {
   "cell_type": "markdown",
   "metadata": {
    "id": "Q-2t8Ky2pjL5"
   },
   "source": [
    "\n",
    "**The Method:**\n",
    "* Split the dataset into k-parts (e.\n",
    "g. k = 5 or k = 10). Each split of the data is called a **fold**. \n",
    "* The model is trained on *k âˆ’ 1* folds with one held back and tested on the held back fold.  This is repeated so that each fold of the dataset is given a chance to be the held back test set. \n",
    "* After running cross validation you end up with *k* different performance scores that you can summarize using a mean and a standard deviation.\n",
    "\n",
    " <img src='https://drive.google.com/uc?export=view&id=1BLxuWeeaRyM6ztSOpXX_cqxpwDytdF0c' width=600px>\n"
   ]
  },
  {
   "cell_type": "markdown",
   "metadata": {
    "id": "VGzxPzP2lMOC"
   },
   "source": [
    "\n",
    "In the example below we use 10-fold cross validation on the Pima Indians Dataset:"
   ]
  },
  {
   "cell_type": "code",
   "execution_count": null,
   "metadata": {
    "id": "Wgcm7sF9HS8C"
   },
   "outputs": [],
   "source": [
    "# Evaluate using Cross Validation\n",
    "from pandas import read_csv\n",
    "from sklearn.model_selection import KFold\n",
    "from sklearn.model_selection import cross_val_score\n",
    "from sklearn.linear_model import LogisticRegression\n",
    "\n",
    "# Load the dataset \n",
    "filename = 'D:/DataViz/BDA/pima-indians-diabetes.csv'\n",
    "names = ['preg', 'plas', 'pres', 'skin', 'test', 'mass', 'pedi', 'age', 'class']\n",
    "dataframe = read_csv(filename, names=names, comment='#')\n",
    "array = dataframe.values\n",
    "X = array[:,0:8]\n",
    "Y = array[:,8]\n",
    "\n",
    "# Set k or the number of folds\n",
    "num_folds = 5\n",
    "#seed = 7\n",
    "\n",
    "# Split the dataset into k folds\n",
    "kfold = KFold(n_splits=num_folds, shuffle=False, random_state=None)\n",
    "\n",
    "# Train the data on a Logistic Regression model\n",
    "model = LogisticRegression(max_iter=210)\n",
    "\n",
    "# Evaluate the score of a kfold cross validation splitting strategy\n",
    "results = cross_val_score(model, X, Y, cv=kfold)\n",
    "print((\"Accuracy: %.3f%% (%.3f%%)\") % (results.mean()*100.0, results.std()*100.0))"
   ]
  },
  {
   "cell_type": "markdown",
   "metadata": {
    "id": "TkKgHDAPV2Qz"
   },
   "source": [
    "## **3. Leave One Out Cross Validation**\n",
    "---\n",
    "* You can configure cross validation so that the \n",
    "size of the fold is 1 (_k is set to the number of\n",
    "observations in your dataset_). This variation of cross validation is called **leave-one-out cross validation**. \n",
    "\n",
    "* The result is a large number of performance measures that can be summarized in an effort to give a more reasonable estimate of the accuracy of your model on unseen data. \n",
    "\n",
    "* However, it can be a computationally more expensive procedure than k-fold cross validation. \n",
    "\n",
    " <img src='https://drive.google.com/uc?export=view&id=1Aat8S3aT1qw94jDUkh8z4Y8IEmJ4Cpqg' width=580px>\n"
   ]
  },
  {
   "cell_type": "markdown",
   "metadata": {
    "id": "kYWXrersqTZL"
   },
   "source": [
    "In the example below we use leave-one-out cross validation."
   ]
  },
  {
   "cell_type": "code",
   "execution_count": null,
   "metadata": {
    "id": "u5ApIqHwSujR"
   },
   "outputs": [],
   "source": [
    "# Evaluate using Leave One Out Cross Validation\n",
    "from pandas import read_csv\n",
    "from sklearn.model_selection import LeaveOneOut\n",
    "from sklearn.model_selection import cross_val_score\n",
    "from sklearn.linear_model import LogisticRegression\n",
    "\n",
    "# Load the dataset\n",
    "filename = 'D:/DataViz/BDA/pima-indians-diabetes.csv'\n",
    "names = ['preg', 'plas', 'pres', 'skin', 'test', 'mass', 'pedi', 'age', 'class']\n",
    "dataframe = read_csv(filename, names=names, comment='#')\n",
    "array = dataframe.values\n",
    "X = array[:,0:8]\n",
    "Y = array[:,8]\n",
    "\n",
    "# Split dataset into a Leave One Out Cross Validation\n",
    "loocv = LeaveOneOut()\n",
    "\n",
    "# Train the data on a Logistic Regression model\n",
    "model = LogisticRegression(max_iter=500)\n",
    "\n",
    "# Evaluate the score of a leave one out cross validation split strategy \n",
    "results = cross_val_score(model, X, Y, cv=loocv)          # there are N scores, where N is the total no. of rows/fold in the dataset\n",
    "print((\"Accuracy: %.3f%% (%.3f%%)\") % (results.mean()*100.0, results.std()*100.0))"
   ]
  },
  {
   "cell_type": "code",
   "execution_count": null,
   "metadata": {},
   "outputs": [],
   "source": [
    "# Evaluate using Leave One Out Cross Validation\n",
    "from pandas import read_csv\n",
    "from sklearn.model_selection import LeaveOneOut\n",
    "from sklearn.model_selection import cross_val_score\n",
    "from sklearn.linear_model import LogisticRegression\n",
    "\n",
    "# Load the dataset\n",
    "filename = 'D:/DataViz/BDA/pima-indians-diabetes.csv'\n",
    "names = ['preg', 'plas', 'pres', 'skin', 'test', 'mass', 'pedi', 'age', 'class']\n",
    "dataframe = read_csv(filename, names=names, comment='#')\n",
    "dataframe.info()"
   ]
  },
  {
   "cell_type": "code",
   "execution_count": null,
   "metadata": {
    "id": "HxXaE4MTuha3"
   },
   "outputs": [],
   "source": [
    "# How many folds are created?\n",
    "print(len(results))"
   ]
  },
  {
   "cell_type": "markdown",
   "metadata": {
    "id": "05QI-iXNXh1U"
   },
   "source": [
    "## **4. Repeated Random Test-Train Splits**\n",
    "---\n",
    "* This is another variation on k-fold cross validation that creates a random split of the data like the train/test split described previously, but the process of splitting and evaluation of the algorithm is repeated multiple times on the whole dataset.\n",
    "\n",
    "* This has the speed of using a train/test split and the reduction in variance in the estimated performance of k-fold cross validation. \n",
    "\n",
    "* A down side is that repetitions may include much of the same data in the train or the test split from run to run,introducing redundancy into the evaluation. "
   ]
  },
  {
   "cell_type": "markdown",
   "metadata": {
    "id": "z_0ON0jd7kFs"
   },
   "source": [
    "The example below splits the data into a 67%/33% train/test split and repeats the process 10 times."
   ]
  },
  {
   "cell_type": "code",
   "execution_count": null,
   "metadata": {
    "id": "Ihh9GsEDW4kz"
   },
   "outputs": [],
   "source": [
    "# Evaluate using Shuffle Split Cross Validation\n",
    "from pandas import read_csv\n",
    "from sklearn.model_selection import ShuffleSplit\n",
    "from sklearn.model_selection import cross_val_score\n",
    "from sklearn.linear_model import LogisticRegression\n",
    "\n",
    "# Load the dataset\n",
    "filename = 'D:/DataViz/BDA/pima-indians-diabetes.csv'\n",
    "names = ['preg', 'plas', 'pres', 'skin', 'test', 'mass', 'pedi', 'age', 'class']\n",
    "dataframe = read_csv(filename, names=names, comment='#')\n",
    "array = dataframe.values\n",
    "X = array[:,0:8]\n",
    "Y = array[:,8]\n",
    "\n",
    "# Set the number of splitting iterations and the test size\n",
    "n_splits = 10\n",
    "test_size = 0.33\n",
    "seed = 7\n",
    "\n",
    "# Shuffle and split dataset 'n_splits' times\n",
    "kfold = ShuffleSplit(n_splits=n_splits, test_size=test_size, random_state=seed)\n",
    "\n",
    "# Train the data on a Logistic Regression model\n",
    "model = LogisticRegression(max_iter=300)\n",
    "\n",
    "# Evaluate the score of a repeated random test-train split strategy\n",
    "results = cross_val_score(model, X, Y, cv=kfold)\n",
    "print((\"Accuracy: %.3f%% (%.3f%%)\") % (results.mean()*100.0, results.std()*100.0))"
   ]
  },
  {
   "cell_type": "markdown",
   "metadata": {
    "id": "cGtuIzg-q4nn"
   },
   "source": [
    "# III. Machine Learning Algorithm Performance Metrics\n"
   ]
  },
  {
   "cell_type": "markdown",
   "metadata": {
    "id": "0tcvDh5GPrap"
   },
   "source": [
    "In this lesson, various different algorithm evaluation metrics are demonstrated for both classification and regression type machine learning problems. \n",
    "* For **classification metrics**, the _Pima Indians onset of diabetes dataset_ is used as demonstration. This is a binary classification problem where all of the input variables are\n",
    "numeric.\n",
    "* For **regression metrics**, the _Boston House Price dataset_ is used as demonstration. this is a regression problem where all of the input variables are also numeric.\n",
    "\n",
    "All recipes evaluate the same algorithms, Logistic Regression for classification and Linear Regression for the regression problems. A 10-fold cross validation test harness is used to demonstrate each metric, because this is the most likely scenario you will use when employing different algorithm evaluation metrics.\n",
    "\n",
    "You can learn more about machine learning algorithm performance metrics supported by\n",
    "scikit-learn on the page _Model evaluation: quantifying the quality of predictions_. \n",
    "\n",
    "Letâ€™s get on with the evaluation metrics."
   ]
  },
  {
   "cell_type": "markdown",
   "metadata": {
    "id": "89gaKi86AvXK"
   },
   "source": [
    "## A. Classification Metrics\n",
    "\n",
    "Classification problems are perhaps the most common type of machine learning problem and as\n",
    "such there are a myriad of metrics that can be used to evaluate predictions for these problems.\n",
    "In this section we will review how to use the following metrics:\n",
    "* Classification Accuracy.\n",
    "* Logarithmic Loss.\n",
    "* Area Under ROC Curve.\n",
    "* Confusion Matrix.\n",
    "* Classification Report."
   ]
  },
  {
   "cell_type": "markdown",
   "metadata": {
    "id": "V6h-ppKRA7A4"
   },
   "source": [
    "### **1. Classification Accuracy**\n",
    "---\n",
    "* **Classification accuracy** is the number of correct predictions made as a ratio of all predictions\n",
    "made. This is the most common evaluation metric for classification problems, it is also the most\n",
    "misused. \n",
    "* It is really only suitable when there are an equal number of observations in each class\n",
    "(which is rarely the case) and that all predictions and prediction errors are equally important, which is often not the case. Below is an example of calculating classification accuracy.\n"
   ]
  },
  {
   "cell_type": "code",
   "execution_count": null,
   "metadata": {
    "id": "SBl2RyitYBPB"
   },
   "outputs": [],
   "source": [
    "# K-fold Cross Validation Classification Accuracy\n",
    "from pandas import read_csv\n",
    "from sklearn.model_selection import KFold\n",
    "from sklearn.model_selection import cross_val_score\n",
    "from sklearn.linear_model import LogisticRegression\n",
    "import matplotlib.pyplot as plt\n",
    "\n",
    "# Load the dataset\n",
    "filename = 'D:/DataViz/BDA/pima-indians-diabetes.csv'\n",
    "names = ['preg', 'plas', 'pres', 'skin', 'test', 'mass', 'pedi', 'age', 'class']\n",
    "dataframe = read_csv(filename, names=names, comment='#')\n",
    "array = dataframe.values\n",
    "X = array[:,0:8]\n",
    "Y = array[:,8]\n",
    "\n",
    "# Split the dataset into a 10-fold cross validation\n",
    "kfold = KFold(n_splits=10, random_state=None)\n",
    "\n",
    "# Train the data on a Logistic Regression model\n",
    "model = LogisticRegression(max_iter=210)\n",
    "\n",
    "# Calculate the classification accuracy\n",
    "scoring = 'accuracy'\n",
    "results = cross_val_score(model, X, Y, cv=kfold, scoring=scoring)\n",
    "print((\"Accuracy: %.3f (%.3f)\") % (results.mean() * 100, results.std() * 100))\n"
   ]
  },
  {
   "cell_type": "code",
   "execution_count": null,
   "metadata": {},
   "outputs": [],
   "source": [
    "#using split train-test 75:25 split ratio\n",
    "from pandas import read_csv\n",
    "from sklearn.model_selection import train_test_split\n",
    "from sklearn.linear_model import LogisticRegression\n",
    "\n",
    "# Load the dataset\n",
    "filename = 'D:/DataViz/BDA/pima-indians-diabetes.csv'\n",
    "names = ['preg', 'plas', 'pres', 'skin', 'test', 'mass', 'pedi', 'age', 'class']\n",
    "dataframe = read_csv(filename, names=names, comment='#')\n",
    "array = dataframe.values\n",
    "X = array[:, 0:8]\n",
    "Y = array[:, 8]\n",
    "\n",
    "# Split the dataset into a 75:25 train-test split\n",
    "X_train, X_test, Y_train, Y_test = train_test_split(X, Y, test_size=0.25, random_state=None)\n",
    "\n",
    "# Train the data on a Logistic Regression model\n",
    "model = LogisticRegression(max_iter=210)\n",
    "model.fit(X_train, Y_train)\n",
    "\n",
    "# Evaluate the model on the test set\n",
    "accuracy = model.score(X_test, Y_test)\n",
    "print(\"Accuracy: %.3f\" % (accuracy * 100))\n"
   ]
  },
  {
   "cell_type": "markdown",
   "metadata": {
    "id": "bpWaKGkJBtvh"
   },
   "source": [
    "### **2. Logarithmic Loss**\n",
    "---\n",
    "* **Logarithmic loss** (or log-loss) is a performance metric for evaluating the predictions of probabilities of membership to a given class.\n",
    "* It is indicative of how close the prediction probability is to the corresponding actual/true value (0 or 1 in case of binary classification)\n",
    "* The more the predicted probability diverges from the actual value, the higher is the log-loss value.\n",
    "* A lower log-loss value means better predictions.\n",
    "\n",
    " <img src='https://drive.google.com/uc?export=view&id=1UPXZhtSZJpfu8C-2w6rYuOt4h5EFoCcU' width=800px>"
   ]
  },
  {
   "cell_type": "markdown",
   "metadata": {
    "id": "b58kcWr4R_Ns"
   },
   "source": [
    "Below is an example of calculating log-loss for Logistic regression predictions on the Pima Indians onset of diabetes dataset."
   ]
  },
  {
   "cell_type": "code",
   "execution_count": null,
   "metadata": {
    "id": "bDTni1rzBM8X"
   },
   "outputs": [],
   "source": [
    "# Cross Validation Classification LogLoss\n",
    "from pandas import read_csv\n",
    "from sklearn.model_selection import KFold\n",
    "from sklearn.model_selection import cross_val_score\n",
    "from sklearn.linear_model import LogisticRegression\n",
    "\n",
    "# Load the dataset\n",
    "filename = 'D:/DataViz/BDA/pima-indians-diabetes.csv'\n",
    "names = ['preg', 'plas', 'pres', 'skin', 'test', 'mass', 'pedi', 'age', 'class']\n",
    "dataframe = read_csv(filename, names=names, comment='#')\n",
    "array = dataframe.values\n",
    "X = array[:,0:8]\n",
    "Y = array[:,8]\n",
    "\n",
    "# Split the dataset into a 10-fold cross validation\n",
    "kfold = KFold(n_splits=10, random_state=None)\n",
    "\n",
    "# Train the data on a Logistic Regression model\n",
    "model = LogisticRegression(max_iter=200)\n",
    "\n",
    "# Calculate the log-loss(neg_mean_squared_error)\n",
    "scoring = 'neg_log_loss'\n",
    "results = cross_val_score(model, X, Y, cv=kfold, scoring=scoring)\n",
    "print((\"Logloss: %.3f (%.3f)\") % (results.mean(), results.std()))"
   ]
  },
  {
   "cell_type": "code",
   "execution_count": null,
   "metadata": {},
   "outputs": [],
   "source": [
    "#using split test\n",
    "from pandas import read_csv\n",
    "from sklearn.model_selection import train_test_split\n",
    "from sklearn.linear_model import LogisticRegression\n",
    "from sklearn.metrics import log_loss\n",
    "\n",
    "# Load the dataset\n",
    "filename = 'D:/DataViz/BDA/pima-indians-diabetes.csv'\n",
    "names = ['preg', 'plas', 'pres', 'skin', 'test', 'mass', 'pedi', 'age', 'class']\n",
    "dataframe = read_csv(filename, names=names, comment='#')\n",
    "array = dataframe.values\n",
    "X = array[:, 0:8]\n",
    "Y = array[:, 8]\n",
    "\n",
    "# Split the dataset into a 80:20 train-test split\n",
    "X_train, X_test, Y_train, Y_test = train_test_split(X, Y, test_size=0.2, random_state=42)\n",
    "\n",
    "# Train the data on a Logistic Regression model\n",
    "model = LogisticRegression(max_iter=200)\n",
    "model.fit(X_train, Y_train)\n",
    "\n",
    "# Make predictions on the test set\n",
    "Y_pred = model.predict_proba(X_test)\n",
    "\n",
    "# Calculate log loss for the test set\n",
    "logloss = log_loss(Y_test, Y_pred)\n",
    "print(\"LogLoss: %.3f\" % logloss)\n"
   ]
  },
  {
   "cell_type": "markdown",
   "metadata": {
    "id": "MhRJRpbwClXZ"
   },
   "source": [
    "*Smaller logloss is better with 0 representing a perfect logloss. The measure is inverted to be ascending when using the cross val score() function.*"
   ]
  },
  {
   "cell_type": "markdown",
   "metadata": {
    "id": "32EZL7KqCqCJ"
   },
   "source": [
    "### **3. Area Under ROC Curve**\n",
    "---\n",
    "*ROC: Receiver Operating Characteristic curve*\n",
    "\n",
    "\n",
    "* **Area under ROC Curve** (or AUC for short) is a performance metric for binary classification problems. \n",
    "* The AUC represents a modelâ€™s ability to discriminate between positive and negative classes. \n",
    "* An area of 1.0 represents a model that made all predictions perfectly. An area of 0.5 represents a model that is as good as random. \n",
    "* ROC can be broken down into sensitivity and specificity: \n",
    " * **Sensitivity** is the true positive rate also called the recall. It is the number of instances\n",
    "from the positive (first) class that actually predicted correctly.\n",
    " * **Specificity** is also called the true negative rate. Is the number of instances from the\n",
    "negative (second) class that were actually predicted correctly.\n"
   ]
  },
  {
   "cell_type": "markdown",
   "metadata": {
    "id": "4mGQiTCIXGiO"
   },
   "source": [
    "\n",
    "The example below provides a demonstration of calculating AUC."
   ]
  },
  {
   "cell_type": "code",
   "execution_count": null,
   "metadata": {
    "id": "uq8d6czECM4y"
   },
   "outputs": [],
   "source": [
    "# Cross Validation Classification ROC AUC\n",
    "from pandas import read_csv\n",
    "from sklearn.model_selection import KFold\n",
    "from sklearn.model_selection import cross_val_score\n",
    "from sklearn.linear_model import LogisticRegression\n",
    "\n",
    "# Load the dataset\n",
    "filename = 'D:/DataViz/BDA/pima-indians-diabetes.csv'\n",
    "names = ['preg', 'plas', 'pres', 'skin', 'test', 'mass', 'pedi', 'age', 'class']\n",
    "dataframe = read_csv(filename, names=names, comment='#')\n",
    "array = dataframe.values\n",
    "X = array[:,0:8]\n",
    "Y = array[:,8]\n",
    "\n",
    "# Split the dataset into a 10-fold cross validation\n",
    "kfold = KFold(n_splits=10, random_state=None)\n",
    "\n",
    "# Train the data on a Logistic Regression model\n",
    "model = LogisticRegression(max_iter=210) \n",
    "\n",
    "# Calculate the area under ROC\n",
    "scoring = 'roc_auc'\n",
    "results = cross_val_score(model, X, Y, cv=kfold, scoring=scoring)\n",
    "print((\"AUC: %.3f (%.3f)\") % (results.mean(), results.std()))"
   ]
  },
  {
   "cell_type": "code",
   "execution_count": null,
   "metadata": {},
   "outputs": [],
   "source": [
    "#using train test split oof 75:25 ratio\n",
    "from pandas import read_csv\n",
    "from sklearn.model_selection import train_test_split\n",
    "from sklearn.linear_model import LogisticRegression\n",
    "from sklearn.metrics import roc_auc_score\n",
    "\n",
    "# Load the dataset\n",
    "filename = 'D:/DataViz/BDA/pima-indians-diabetes.csv'\n",
    "names = ['preg', 'plas', 'pres', 'skin', 'test', 'mass', 'pedi', 'age', 'class']\n",
    "dataframe = read_csv(filename, names=names, comment='#')\n",
    "array = dataframe.values\n",
    "X = array[:, 0:8]\n",
    "Y = array[:, 8]\n",
    "\n",
    "# Split the dataset into a 75:25 train-test split\n",
    "X_train, X_test, Y_train, Y_test = train_test_split(X, Y, test_size=0.25, random_state=None)\n",
    "\n",
    "# Train the data on a Logistic Regression model\n",
    "model = LogisticRegression(max_iter=210)\n",
    "model.fit(X_train, Y_train)\n",
    "\n",
    "# Predict the probabilities for the test set\n",
    "Y_prob = model.predict_proba(X_test)[:, 1]\n",
    "\n",
    "# Calculate the ROC AUC score\n",
    "roc_auc = roc_auc_score(Y_test, Y_prob)\n",
    "print(\"AUC: %.3f\" % roc_auc)\n"
   ]
  },
  {
   "cell_type": "code",
   "execution_count": null,
   "metadata": {},
   "outputs": [],
   "source": [
    "#with plot/graph of RUC curve\n",
    "from pandas import read_csv\n",
    "from sklearn.model_selection import train_test_split\n",
    "from sklearn.linear_model import LogisticRegression\n",
    "from sklearn.metrics import roc_curve, roc_auc_score, auc\n",
    "import matplotlib.pyplot as plt\n",
    "\n",
    "# Load the dataset\n",
    "filename = 'D:/DataViz/BDA/pima-indians-diabetes.csv'\n",
    "names = ['preg', 'plas', 'pres', 'skin', 'test', 'mass', 'pedi', 'age', 'class']\n",
    "dataframe = read_csv(filename, names=names, comment='#')\n",
    "array = dataframe.values\n",
    "X = array[:, 0:8]\n",
    "Y = array[:, 8]\n",
    "\n",
    "# Split the dataset into a 75:25 train-test split\n",
    "X_train, X_test, Y_train, Y_test = train_test_split(X, Y, test_size=0.25, random_state=None)\n",
    "\n",
    "# Train the data on a Logistic Regression model\n",
    "model = LogisticRegression(max_iter=210)\n",
    "model.fit(X_train, Y_train)\n",
    "\n",
    "# Predict the probabilities for the test set\n",
    "Y_prob = model.predict_proba(X_test)[:, 1]\n",
    "\n",
    "# Calculate the ROC AUC score\n",
    "roc_auc = roc_auc_score(Y_test, Y_prob)\n",
    "print(\"AUC: %.3f\" % roc_auc)\n",
    "\n",
    "# Calculate the ROC curve\n",
    "fpr, tpr, thresholds = roc_curve(Y_test, Y_prob)\n",
    "\n",
    "# Plot the ROC curve\n",
    "plt.figure(figsize=(8, 6))\n",
    "plt.plot(fpr, tpr, color='darkorange', lw=2, label='ROC curve (area = %0.2f)' % roc_auc)\n",
    "plt.plot([0, 1], [0, 1], color='navy', lw=2, linestyle='--')\n",
    "plt.xlim([0.0, 1.0])\n",
    "plt.ylim([0.0, 1.05])\n",
    "plt.xlabel('False Positive Rate')\n",
    "plt.ylabel('True Positive Rate')\n",
    "plt.title('Receiver Operating Characteristic (ROC) Curve')\n",
    "plt.legend(loc='lower right')\n",
    "plt.show()\n"
   ]
  },
  {
   "cell_type": "markdown",
   "metadata": {
    "id": "_CSTCNbYKrqx"
   },
   "source": [
    "### **4. Confusion Matrix**\n",
    "---\n",
    "* The **confusion matrix** is a handy presentation of the accuracy of a model with two or more classes. \n",
    "* The table presents predictions on the x-axis and accuracy outcomes on the y-axis. The cells of the table are the number of predictions made by a machine learning algorithm.\n",
    "\n",
    " <img src='https://drive.google.com/uc?export=view&id=1fog1cY4PUgs70l10uhK_0UWvwabfmzkj' width=480px>\n",
    " "
   ]
  },
  {
   "cell_type": "markdown",
   "metadata": {
    "id": "chNJ3f4gYuHe"
   },
   "source": [
    "Below is an example of calculating a confusion matrix for a set of predictions by a Logistic Regression on the Pima Indians onset of diabetes dataset."
   ]
  },
  {
   "cell_type": "code",
   "execution_count": null,
   "metadata": {
    "id": "ra4l3M76DgwS"
   },
   "outputs": [],
   "source": [
    "# Import necessary libraries\n",
    "from pandas import read_csv\n",
    "from sklearn.model_selection import train_test_split\n",
    "from sklearn.linear_model import LogisticRegression\n",
    "from sklearn.metrics import confusion_matrix\n",
    "from sklearn.metrics import ConfusionMatrixDisplay\n",
    "import matplotlib.pyplot as plt\n",
    "\n",
    "# Load the dataset\n",
    "filename = 'D:/DataViz/BDA/pima-indians-diabetes.csv'\n",
    "names = ['preg', 'plas', 'pres', 'skin', 'test', 'mass', 'pedi', 'age', 'class']\n",
    "dataframe = read_csv(filename, names=names, comment='#')\n",
    "array = dataframe.values\n",
    "X = array[:, 0:8]\n",
    "Y = array[:, 8]\n",
    "\n",
    "# Split the dataset into train and test\n",
    "test_size = 0.33\n",
    "seed = 7\n",
    "X_train, X_test, Y_train, Y_test = train_test_split(X, Y, test_size=test_size, random_state=seed)\n",
    "\n",
    "# Train the data on a Logistic Regression model\n",
    "model = LogisticRegression(max_iter=280)\n",
    "model.fit(X_train, Y_train)\n",
    "\n",
    "# Calculate confusion matrix for a set of predictions\n",
    "predicted = model.predict(X_test)\n",
    "matrix = confusion_matrix(Y_test, predicted)\n",
    "print(matrix)\n",
    "\n",
    "# Use ConfusionMatrixDisplay.from_estimator to plot the confusion matrix\n",
    "disp = ConfusionMatrixDisplay.from_estimator(model, X_test, Y_test)\n",
    "disp.plot(cmap=plt.cm.Blues)\n",
    "plt.show()\n"
   ]
  },
  {
   "cell_type": "markdown",
   "metadata": {
    "id": "p0yJuWocLvBH"
   },
   "source": [
    "_Although the array is printed without headings, you can see that the majority of the predictions fall on the diagonal line of the matrix (which are correct predictions)._\n"
   ]
  },
  {
   "cell_type": "markdown",
   "metadata": {
    "id": "CqTWgiPZLu5X"
   },
   "source": [
    "### **5. Classification Report**\n",
    "---\n",
    "* The scikit-learn library provides a convenience report when working on classification problems to give you a quick idea of the accuracy of a model using a number of measures. \n",
    "* The ```classification report()``` function displays the precision, recall, F1-score and support for each class.\n",
    "Support is the number of actual occurrences of the class in the specified dataset. Imbalanced support in the training data may indicate structural weaknesses in the reported scores of the classifier and could indicate the need for stratified sampling or rebalancing."
   ]
  },
  {
   "cell_type": "markdown",
   "metadata": {
    "id": "DqMuUAFlicMs"
   },
   "source": [
    "The example below demonstrates the report on the binary classification problem."
   ]
  },
  {
   "cell_type": "code",
   "execution_count": null,
   "metadata": {
    "id": "b-WPFR25LSOc"
   },
   "outputs": [],
   "source": [
    "# Cross Validation Classification Report\n",
    "from pandas import read_csv\n",
    "from sklearn.model_selection import train_test_split\n",
    "from sklearn.linear_model import LogisticRegression\n",
    "from sklearn.metrics import classification_report\n",
    "\n",
    "# Load the dataset\n",
    "filename = 'D:/DataViz/BDA/pima-indians-diabetes.csv'\n",
    "names = ['preg', 'plas', 'pres', 'skin', 'test', 'mass', 'pedi', 'age', 'class']\n",
    "dataframe = read_csv(filename, names=names, comment='#')\n",
    "array = dataframe.values\n",
    "X = array[:,0:8]\n",
    "Y = array[:,8]\n",
    "\n",
    "# Split the dataset into train and test\n",
    "test_size = 0.33\n",
    "seed = 7\n",
    "X_train, X_test, Y_train, Y_test = train_test_split(X, Y, test_size=test_size, random_state=seed)\n",
    "\n",
    "# Train the data on a Logistic Regression model\n",
    "model = LogisticRegression(max_iter=180)\n",
    "model.fit(X_train, Y_train)\n",
    "\n",
    "# Get classification report \n",
    "predicted = model.predict(X_test)\n",
    "report = classification_report(Y_test, predicted)\n",
    "print(report)"
   ]
  },
  {
   "cell_type": "markdown",
   "metadata": {
    "id": "y5PFyVQWMo1v"
   },
   "source": [
    "## B. Regression Metrics\n",
    "In this section will review 3 of the most common metrics for evaluating predictions on regression\n",
    "machine learning problems:\n",
    "* Mean Absolute Error.\n",
    "* Mean Squared Error.\n",
    "* R2.\n"
   ]
  },
  {
   "cell_type": "markdown",
   "metadata": {
    "id": "F9aQzrsuM3is"
   },
   "source": [
    "### **1. Mean Absolute Error**\n",
    "---\n",
    "* The **Mean Absolute Error** (or MAE) is the sum of the absolute differences between predictions and actual values. \n",
    "* It gives an idea of how wrong the predictions were. The measure gives an idea of the magnitude of the error, but no idea of the direction (e.g. over or under predicting). "
   ]
  },
  {
   "cell_type": "markdown",
   "metadata": {
    "id": "8ordf82NH-pi"
   },
   "source": [
    "The example below demonstrates calculating mean absolute error on the Boston house price [dataset](https://www.kaggle.com/vikrishnan/boston-house-prices)."
   ]
  },
  {
   "cell_type": "code",
   "execution_count": null,
   "metadata": {
    "id": "P0J3T3l6MU-5"
   },
   "outputs": [],
   "source": [
    "# Cross Validation Regression MAE\n",
    "from pandas import read_csv\n",
    "from sklearn.model_selection import KFold\n",
    "from sklearn.model_selection import cross_val_score\n",
    "from sklearn.linear_model import LinearRegression\n",
    "\n",
    "# Load the dataset\n",
    "filename = 'D:/DataViz/BDA/housing.csv'\n",
    "names = ['CRIM', 'ZN', 'INDUS', 'CHAS', 'NOX', 'RM', 'AGE', 'DIS', 'RAD', 'TAX', 'PTRATIO', 'B', 'LSTAT', 'MEDV']\n",
    "dataframe = read_csv(filename)\n",
    "array = dataframe.values\n",
    "X = array[:,0:13]\n",
    "Y = array[:,13]\n",
    "\n",
    "# Split the dataset into a 10-fold cross validation\n",
    "kfold = KFold(n_splits=10, random_state=None)\n",
    "\n",
    "# Train the data on a Linear Regression model\n",
    "model = LinearRegression()\n",
    "\n",
    "# Calculate the mean absolute error\n",
    "scoring = 'neg_mean_absolute_error'\n",
    "results = cross_val_score(model, X, Y, cv=kfold, scoring=scoring)\n",
    "print((\"MAE: %.3f (%.3f)\") % (results.mean(), results.std()))"
   ]
  },
  {
   "cell_type": "code",
   "execution_count": null,
   "metadata": {},
   "outputs": [],
   "source": [
    "#using train test split\n",
    "from pandas import read_csv\n",
    "from sklearn.model_selection import train_test_split\n",
    "from sklearn.linear_model import LinearRegression\n",
    "from sklearn.metrics import mean_absolute_error\n",
    "\n",
    "# Load the dataset\n",
    "filename = 'D:/DataViz/BDA/housing.csv'\n",
    "names = ['CRIM', 'ZN', 'INDUS', 'CHAS', 'NOX', 'RM', 'AGE', 'DIS', 'RAD', 'TAX', 'PTRATIO', 'B', 'LSTAT', 'MEDV']\n",
    "dataframe = read_csv(filename)\n",
    "array = dataframe.values\n",
    "X = array[:, 0:13]\n",
    "Y = array[:, 13]\n",
    "\n",
    "# Split the dataset into a train set (80%) and a test set (20%)\n",
    "X_train, X_test, Y_train, Y_test = train_test_split(X, Y, test_size=0.2, random_state=42)\n",
    "\n",
    "# Train the data on a Linear Regression model\n",
    "model = LinearRegression()\n",
    "model.fit(X_train, Y_train)\n",
    "\n",
    "# Make predictions on the test set\n",
    "Y_pred = model.predict(X_test)\n",
    "\n",
    "# Calculate the Mean Absolute Error (MAE) on the test set\n",
    "mae = -mean_absolute_error(Y_test, Y_pred)\n",
    "print(\"MAE: %.3f\" % mae)\n"
   ]
  },
  {
   "cell_type": "markdown",
   "metadata": {
    "id": "n-JIN5kCOeDj"
   },
   "source": [
    "A value of 0 indicates no error or perfect predictions. Like logloss, this metric is inverted by the cross val score() function."
   ]
  },
  {
   "cell_type": "markdown",
   "metadata": {
    "id": "iami33ZKOjct"
   },
   "source": [
    "### **2. Mean Squared Error**\n",
    "---\n",
    "* The **Mean Squared Error** (or MSE) is much like the mean absolute error in that it provides a gross idea of the magnitude of error. \n",
    "* Taking the square root of the mean squared error converts the units back to the original units of the output variable and can be meaningful for description and presentation. This is called the **Root Mean Squared Error** (or RMSE). "
   ]
  },
  {
   "cell_type": "markdown",
   "metadata": {
    "id": "PyVemfQwI38p"
   },
   "source": [
    "The example below provides a demonstration of calculating mean squared error."
   ]
  },
  {
   "cell_type": "code",
   "execution_count": null,
   "metadata": {
    "id": "KmbTb4bBOMD7"
   },
   "outputs": [],
   "source": [
    "# Cross Validation Regression MSE\n",
    "from pandas import read_csv\n",
    "from sklearn.model_selection import KFold\n",
    "from sklearn.model_selection import cross_val_score\n",
    "from sklearn.linear_model import LinearRegression\n",
    "\n",
    "# Load the dataset\n",
    "filename = 'D:/DataViz/BDA/housing.csv'\n",
    "names = ['CRIM', 'ZN', 'INDUS', 'CHAS', 'NOX', 'RM', 'AGE', 'DIS', 'RAD', 'TAX', 'PTRATIO', 'B', 'LSTAT', 'MEDV']\n",
    "dataframe = read_csv(filename)\n",
    "array = dataframe.values\n",
    "X = array[:,0:13]\n",
    "Y = array[:,13]\n",
    "\n",
    "# Split the dataset into a 10-fold cross validation\n",
    "num_folds = 10\n",
    "kfold = KFold(n_splits=10, random_state=None)\n",
    "\n",
    "# Train the data on a Linear Regression model\n",
    "model = LinearRegression()\n",
    "\n",
    "# Caculate the mean squared error\n",
    "scoring = 'neg_mean_squared_error'\n",
    "results = cross_val_score(model, X, Y, cv=kfold, scoring=scoring)\n",
    "print((\"MSE: %.3f (%.3f)\") % (results.mean(), results.std()))"
   ]
  },
  {
   "cell_type": "code",
   "execution_count": null,
   "metadata": {},
   "outputs": [],
   "source": [
    "from pandas import read_csv\n",
    "from sklearn.model_selection import train_test_split\n",
    "from sklearn.linear_model import LinearRegression\n",
    "from sklearn.metrics import mean_squared_error\n",
    "\n",
    "# Load the dataset\n",
    "filename = 'D:/DataViz/BDA/housing.csv'\n",
    "names = ['CRIM', 'ZN', 'INDUS', 'CHAS', 'NOX', 'RM', 'AGE', 'DIS', 'RAD', 'TAX', 'PTRATIO', 'B', 'LSTAT', 'MEDV']\n",
    "dataframe = read_csv(filename)\n",
    "array = dataframe.values\n",
    "X = array[:, 0:13]\n",
    "Y = array[:, 13]\n",
    "\n",
    "# Split the dataset into an 80:20 train-test split\n",
    "test_size = 0.2\n",
    "seed = 42  # Random seed for reproducibility\n",
    "X_train, X_test, Y_train, Y_test = train_test_split(X, Y, test_size=test_size, random_state=seed)\n",
    "\n",
    "# Train the data on a Linear Regression model\n",
    "model = LinearRegression()\n",
    "model.fit(X_train, Y_train)\n",
    "\n",
    "# Make predictions on the test data\n",
    "Y_pred = model.predict(X_test)\n",
    "\n",
    "# Calculate the mean squared error on the test set\n",
    "mse = mean_squared_error(Y_test, Y_pred)\n",
    "print(\"MSE: %.3f\" % mse)\n"
   ]
  },
  {
   "cell_type": "markdown",
   "metadata": {
    "id": "vKBwzPK2X8wB"
   },
   "source": [
    "### **3. R2 Metric** \n",
    "\n",
    "* The **R2 (or R Squared) metric** provides an indication of the goodness of fit of a set of predictions to the actual values. \n",
    "* In statistical literature this measure is called the _coefficient of determination_. This is a value between 0 and 1 for no-fit and perfect fit respectively. "
   ]
  },
  {
   "cell_type": "markdown",
   "metadata": {
    "id": "7j2jGJ1FJPUO"
   },
   "source": [
    "The example below provides a demonstration of calculating the mean R2 for a set of predictions."
   ]
  },
  {
   "cell_type": "code",
   "execution_count": null,
   "metadata": {
    "id": "80SRs0pRO8Ri"
   },
   "outputs": [],
   "source": [
    "# Cross Validation Regression R^2\n",
    "from pandas import read_csv\n",
    "from sklearn.model_selection import KFold\n",
    "from sklearn.model_selection import cross_val_score\n",
    "from sklearn.linear_model import LinearRegression\n",
    "\n",
    "# Load the dataset\n",
    "filename = 'D:/DataViz/BDA/housing.csv'\n",
    "names = ['CRIM', 'ZN', 'INDUS', 'CHAS', 'NOX', 'RM', 'AGE', 'DIS', 'RAD', 'TAX', 'PTRATIO', 'B', 'LSTAT', 'MEDV']\n",
    "dataframe = read_csv(filename)\n",
    "array = dataframe.values\n",
    "X = array[:,0:13]\n",
    "Y = array[:,13]\n",
    "\n",
    "# Split the dataset into a 10-fold cross validation\n",
    "kfold = KFold(n_splits=10, random_state=None)\n",
    "\n",
    "# Train the data on a Linear Regression model\n",
    "model = LinearRegression()\n",
    "\n",
    "# Calculate the R2 metric\n",
    "scoring = 'r2'\n",
    "results = cross_val_score(model, X, Y, cv=kfold, scoring=scoring)\n",
    "print((\"R^2: %.3f (%.3f)\") % (results.mean(), results.std()))"
   ]
  },
  {
   "cell_type": "code",
   "execution_count": null,
   "metadata": {},
   "outputs": [],
   "source": [
    "#using train test split 80:20 ratio\n",
    "from pandas import read_csv\n",
    "from sklearn.model_selection import train_test_split\n",
    "from sklearn.linear_model import LinearRegression\n",
    "from sklearn.metrics import r2_score\n",
    "\n",
    "# Load the dataset\n",
    "filename = 'D:/DataViz/BDA/housing.csv'\n",
    "names = ['CRIM', 'ZN', 'INDUS', 'CHAS', 'NOX', 'RM', 'AGE', 'DIS', 'RAD', 'TAX', 'PTRATIO', 'B', 'LSTAT', 'MEDV']\n",
    "dataframe = read_csv(filename)\n",
    "array = dataframe.values\n",
    "X = array[:, 0:13]\n",
    "Y = array[:, 13]\n",
    "\n",
    "# Split the dataset into a 80:20 train-test split\n",
    "X_train, X_test, Y_train, Y_test = train_test_split(X, Y, test_size=0.2, random_state=42)\n",
    "\n",
    "# Train the data on a Linear Regression model\n",
    "model = LinearRegression()\n",
    "model.fit(X_train, Y_train)\n",
    "\n",
    "# Make predictions on the test set\n",
    "Y_pred = model.predict(X_test)\n",
    "\n",
    "# Calculate the R-squared (R^2) metric on the test set\n",
    "r2 = r2_score(Y_test, Y_pred)\n",
    "print(\"R^2: %.3f\" % r2)\n"
   ]
  },
  {
   "cell_type": "markdown",
   "metadata": {
    "id": "EadIZrwfPpPc"
   },
   "source": [
    "# IV. Summary\n",
    "\n",
    "In this notebook you discovered resampling techniques and performance metrics that you can use to evaluate your machine learning algorithms.\n",
    "\n",
    "You learned four resampling techniques:\n",
    "* Split into Train and Test Sets\n",
    "* K-fold Cross Validation\n",
    "* Leave One Out Cross Validation\n",
    "* Repeated Random Test-Train Splits\n",
    "\n",
    "You learned about three classification metrics: \n",
    "* Accuracy\n",
    "* Logarithmic Loss\n",
    "* Area Under ROC Curve \n",
    "\n",
    "You also learned about two convenience methods for classification prediction results: \n",
    "* Confusion Matrix \n",
    "* Classification Report \n",
    "\n",
    "Finally, you also learned about\n",
    "three metrics for regression problems: \n",
    "* Mean Absolute Error\n",
    "* Mean Squared Error \n",
    "* R2"
   ]
  }
 ],
 "metadata": {
  "colab": {
   "collapsed_sections": [],
   "name": "How_to_Evaluate_ML_Performance.ipynb",
   "provenance": []
  },
  "kernelspec": {
   "display_name": "Python 3 (ipykernel)",
   "language": "python",
   "name": "python3"
  },
  "language_info": {
   "codemirror_mode": {
    "name": "ipython",
    "version": 3
   },
   "file_extension": ".py",
   "mimetype": "text/x-python",
   "name": "python",
   "nbconvert_exporter": "python",
   "pygments_lexer": "ipython3",
   "version": "3.10.10"
  }
 },
 "nbformat": 4,
 "nbformat_minor": 1
}
